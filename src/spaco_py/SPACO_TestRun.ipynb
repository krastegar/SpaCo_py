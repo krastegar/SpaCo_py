{
 "cells": [
  {
   "cell_type": "code",
   "execution_count": 1,
   "metadata": {},
   "outputs": [],
   "source": [
    "from spaco_py.SpaCoObject import SPACO\n",
    "import pandas as pd \n",
    "import numpy as np\n",
    "import matplotlib.pyplot as plt"
   ]
  },
  {
   "cell_type": "code",
   "execution_count": 2,
   "metadata": {},
   "outputs": [],
   "source": [
    "sf = np.load(\n",
    "    \"/home/krastegar0/SpaCo_py/src/spaco_py/sf_mat.npy\", allow_pickle=False\n",
    ")\n",
    "neighbor = np.load(\n",
    "    \"/home/krastegar0/SpaCo_py/src/spaco_py/A_mat.npy\", allow_pickle=False\n",
    ")"
   ]
  },
  {
   "cell_type": "code",
   "execution_count": 3,
   "metadata": {},
   "outputs": [],
   "source": [
    "#Loading the coorddinates \n",
    "coords = pd.read_excel('/home/krastegar0/SpaCo_py/mouseBrainTestData/coords_brain.xlsx')"
   ]
  },
  {
   "cell_type": "code",
   "execution_count": 4,
   "metadata": {},
   "outputs": [],
   "source": [
    "def plot_spatial_heatmap(coords, values, title=\"Spatial Heatmap\", cmap=\"viridis\", point_size=50):\n",
    "    \"\"\"\n",
    "    Plots a discrete heatmap based on coordinates and corresponding values.\n",
    "    Args:\n",
    "        coords (numpy.ndarray): Array of shape (n_samples, 2) containing x and y coordinates.\n",
    "        values (numpy.ndarray): Array of shape (n_samples,) containing values corresponding to the coordinates.\n",
    "        title (str): Title of the plot.\n",
    "        cmap (str): Colormap to use for the heatmap.\n",
    "        point_size (int): Size of the points in the scatter plot.\n",
    "    \"\"\"\n",
    "    # Ensure inputs are NumPy arrays\n",
    "    coords = np.array(coords)\n",
    "    values = np.array(values)\n",
    "    # Create the scatter plot\n",
    "    plt.figure(figsize=(8, 6))\n",
    "    scatter = plt.scatter(coords[:, 0], coords[:, 1], c=values, cmap=cmap, s=point_size, edgecolor=\"k\")\n",
    "    plt.colorbar(scatter, label=\"Values\")\n",
    "    plt.title(title)\n",
    "    plt.xlabel(\"X Coordinate\")\n",
    "    plt.ylabel(\"Y Coordinate\")\n",
    "    plt.grid(True)\n",
    "    plt.show()\n",
    "# Example usage\n",
    "# Coordinates (x, y)\n",
    "# coords = coords\n",
    "# Values corresponding to the coordinates\n",
    "# values = spac_patterns_X[:, 0]  # Use the first SpaCo pattern for demonstration\n",
    "# Plot the heatmap\n",
    "# plot_spatial_heatmap(coords, values, title=\"First SpaC\",point_size=20)"
   ]
  },
  {
   "cell_type": "code",
   "execution_count": 5,
   "metadata": {},
   "outputs": [],
   "source": [
    "testObj = SPACO(neighbormatrix=neighbor, sample_features=sf)"
   ]
  },
  {
   "cell_type": "code",
   "execution_count": 6,
   "metadata": {},
   "outputs": [
    {
     "name": "stdout",
     "output_type": "stream",
     "text": [
      "non_random_eigvals: [2.00796413 2.00314953 1.99420985 ... 0.55097593 0.54750051 0.54476009]\n",
      "\n",
      "results_all: [1.75873759 1.76558992 1.76570127 1.76692996 1.7715932  1.76328494\n",
      " 1.76608434 1.76371549 1.76852751 1.7632983  1.76637705 1.76877498\n",
      " 1.7589232  1.7720119  1.76330084 1.76645228 1.77004369 1.76572459\n",
      " 1.77326744 1.77160813 1.76641573 1.76093169 1.76749544 1.76449523\n",
      " 1.76983547 1.76565112 1.76881685 1.76384203 1.76593782 1.76828762\n",
      " 1.76505135 1.76514372 1.76596974 1.76288375 1.76721977 1.76220676\n",
      " 1.77508193 1.76986576 1.76858075 1.77777256 1.76194607 1.76377428\n",
      " 1.76817752 1.76263376 1.76557514 1.76804086 1.77714441 1.77432302\n",
      " 1.76688067 1.76430178 1.76610291 1.75853477 1.77575141 1.76445948\n",
      " 1.77160831 1.76683954 1.76997344 1.76705603 1.76505281 1.76425726\n",
      " 1.76678065 1.76416376 1.76973643 1.76848659 1.76143412 1.76843053\n",
      " 1.7649121  1.76945364 1.76307846 1.76567115 1.76695233 1.77256087\n",
      " 1.76975218 1.76941387 1.7665792  1.77148361 1.76479776 1.76579733\n",
      " 1.77061464 1.77401919 1.76335053 1.7704641  1.76587896 1.76630608\n",
      " 1.76966244 1.76884056 1.77690468 1.76203502 1.76761945 1.76531144\n",
      " 1.76456987 1.76019071 1.77252536 1.76519871 1.77377508 1.76766916\n",
      " 1.76323377 1.76290763 1.76486893 1.76353557]\n",
      "\n",
      "Inital CI: 1.766 - 1.768\n",
      "\n",
      "INITIAL # of elements in CI: 0\n",
      " size of CI: 0.00159\n"
     ]
    }
   ],
   "source": [
    "Pspac, Vkt =testObj.spaco_projection()"
   ]
  },
  {
   "cell_type": "code",
   "execution_count": 7,
   "metadata": {},
   "outputs": [
    {
     "data": {
      "text/plain": [
       "(2696, 35)"
      ]
     },
     "execution_count": 7,
     "metadata": {},
     "output_type": "execute_result"
    }
   ],
   "source": [
    "Vkt.shape"
   ]
  },
  {
   "cell_type": "code",
   "execution_count": 8,
   "metadata": {},
   "outputs": [],
   "source": [
    "testObj.lambda_cut"
   ]
  }
 ],
 "metadata": {
  "kernelspec": {
   "display_name": ".venv",
   "language": "python",
   "name": "python3"
  },
  "language_info": {
   "codemirror_mode": {
    "name": "ipython",
    "version": 3
   },
   "file_extension": ".py",
   "mimetype": "text/x-python",
   "name": "python",
   "nbconvert_exporter": "python",
   "pygments_lexer": "ipython3",
   "version": "3.12.0"
  }
 },
 "nbformat": 4,
 "nbformat_minor": 2
}
