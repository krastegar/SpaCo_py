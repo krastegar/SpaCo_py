{
 "cells": [
  {
   "cell_type": "code",
   "execution_count": null,
   "metadata": {},
   "outputs": [],
   "source": [
    "from spaco_py.SpaCoObject import SPACO\n",
    "import pandas as pd \n",
    "import numpy as np\n",
    "import matplotlib.pyplot as plt\n",
    "import seaborn as sns\n",
    "from momentchi2 import wf, hbe"
   ]
  },
  {
   "cell_type": "code",
   "execution_count": null,
   "metadata": {},
   "outputs": [],
   "source": [
    "sf = np.load(\n",
    "    \"/home/krastega0/SpaCo_py/src/spaco_py/sf_mat.npy\", allow_pickle=False\n",
    ")\n",
    "neighbor = np.load(\n",
    "    \"/home/krastega0/SpaCo_py/src/spaco_py/A_mat.npy\", allow_pickle=False\n",
    ")"
   ]
  },
  {
   "cell_type": "code",
   "execution_count": null,
   "metadata": {},
   "outputs": [],
   "source": [
    "#Loading the coorddinates \n",
    "coords = pd.read_excel('/home/krastega0/SpaCo_py/src/spaco_py/coords_brain.xlsx')"
   ]
  },
  {
   "cell_type": "code",
   "execution_count": null,
   "metadata": {},
   "outputs": [],
   "source": [
    "def plot_spatial_heatmap(coords, values, title=\"Spatial Heatmap\", cmap=\"viridis\", point_size=50):\n",
    "    \"\"\"\n",
    "    Plots a discrete heatmap based on coordinates and corresponding values.\n",
    "    Args:\n",
    "        coords (numpy.ndarray): Array of shape (n_samples, 2) containing x and y coordinates.\n",
    "        values (numpy.ndarray): Array of shape (n_samples,) containing values corresponding to the coordinates.\n",
    "        title (str): Title of the plot.\n",
    "        cmap (str): Colormap to use for the heatmap.\n",
    "        point_size (int): Size of the points in the scatter plot.\n",
    "    \"\"\"\n",
    "    # Ensure inputs are NumPy arrays\n",
    "    coords = np.array(coords)\n",
    "    values = np.array(values)\n",
    "    # Create the scatter plot\n",
    "    plt.figure(figsize=(8, 6))\n",
    "    scatter = plt.scatter(coords[:, 0], coords[:, 1], c=values, cmap=cmap, s=point_size, edgecolor=\"k\")\n",
    "    plt.colorbar(scatter, label=\"Values\")\n",
    "    plt.title(title)\n",
    "    plt.xlabel(\"X Coordinate\")\n",
    "    plt.ylabel(\"Y Coordinate\")\n",
    "    plt.grid(True)\n",
    "    plt.savefig(f'{title}.png', dpi=300, bbox_inches='tight')\n",
    "    plt.show()\n",
    "# Example usage\n",
    "# Coordinates (x, y)\n",
    "# coords = coords\n",
    "# Values corresponding to the coordinates\n",
    "# values = spac_patterns_X[:, 0]  # Use the first SpaCo pattern for demonstration\n",
    "# Plot the heatmap\n",
    "# plot_spatial_heatmap(coords, values, title=\"First SpaC\",point_size=20)"
   ]
  },
  {
   "cell_type": "code",
   "execution_count": null,
   "metadata": {},
   "outputs": [],
   "source": [
    "testObj = SPACO(neighbormatrix=neighbor, sample_features=sf)"
   ]
  },
  {
   "cell_type": "code",
   "execution_count": null,
   "metadata": {},
   "outputs": [],
   "source": [
    "Pspac, Vkt =testObj.spaco_projection()"
   ]
  },
  {
   "cell_type": "markdown",
   "metadata": {},
   "source": [
    "\n",
    "## Remarks on Fig 1\n",
    "The distribution of eigenvalues shows the non-random eigenvalues in blue and the random permuted eigenvalues in orange.\n",
    "The non-random eigenvalues represent the true structure of the data, while the random permuted eigenvalues serve as a null distribution for comparison.\n",
    "We use the upper 95% confidence interval of the random permuted eigenvalues to determine the significance of the non-random eigenvalues.\n",
    "The non-random eigenvalues that exceed this threshold are considered significant and indicate the presence of meaningful patterns in the data.\n",
    "The plot provides a visual representation of the eigenvalue distributions, allowing us to assess the significance of the non-random eigenvalues in relation to the random permuted eigenvalues.\n",
    "      \n",
    "      "
   ]
  },
  {
   "cell_type": "markdown",
   "metadata": {},
   "source": [
    "## Determing a metric to see if this pattern is actually spatially \n",
    "Here we see our first spatial pattern but how can we tell if the patterns that we see are actually spatial or they are just artifacts. We look at the length of the projections as the measure of \"Smoothness\" for a spatial gene "
   ]
  },
  {
   "cell_type": "code",
   "execution_count": null,
   "metadata": {},
   "outputs": [],
   "source": [
    "graphLaplacian=testObj._cache[\"spectral_results\"][2]\n",
    "graphLaplacian"
   ]
  },
  {
   "cell_type": "code",
   "execution_count": null,
   "metadata": {},
   "outputs": [],
   "source": [
    "coeefficients = testObj._cache[\"sigma_eigh\"]\n",
    "coeefficients"
   ]
  },
  {
   "cell_type": "code",
   "execution_count": null,
   "metadata": {},
   "outputs": [],
   "source": [
    "# generating the theoretical null distribution\n",
    "# first need to create a vector of random chi_squared variables\n",
    "coeefficients = testObj._cache[\"sigma_eigh\"]\n",
    "n = len(testObj._cache[\"sigma_eigh\"])\n",
    "chi2_random = np.random.chisquare(df=1, size=n)\n",
    "\n",
    "# then we need to scale them by the eigenvalues\n",
    "theoretical_null = [coeefficients.T @ np.random.chisquare(df=1, size=n) for i in range(10000)]\n",
    "len(theoretical_null)"
   ]
  },
  {
   "cell_type": "code",
   "execution_count": null,
   "metadata": {},
   "outputs": [],
   "source": [
    "# generate random normal distributed vector\n",
    "normal_random = np.random.normal(size=Vkt.shape[0])\n",
    "\n",
    "# generate the test statistic for this random simulated pattern \n",
    "rand_test_statistic = []\n",
    "for i in range(10000):\n",
    "    rand_projection = np.random.normal(size=Vkt.shape[0]).T @ graphLaplacian @ Vkt\n",
    "    len_proj = rand_projection.T @ rand_projection\n",
    "    rand_test_statistic.append(len_proj)\n",
    "len(rand_test_statistic)"
   ]
  },
  {
   "cell_type": "code",
   "execution_count": null,
   "metadata": {},
   "outputs": [],
   "source": [
    "plt.figure(figsize=(10, 6))\n",
    "plt.hist(rand_test_statistic, bins=50, color='blue', alpha=0.6, label='Random Test Statistic')\n",
    "plt.hist(theoretical_null, bins=50, color='orange', alpha=0.6, label='Theoretical Null')\n",
    "plt.xlabel('Value')\n",
    "plt.ylabel('Frequency')\n",
    "plt.title('Comparison of Random Test Statistic and Theoretical Null Distributions')\n",
    "plt.legend()\n",
    "plt.show()"
   ]
  }
 ],
 "metadata": {
  "kernelspec": {
   "display_name": "SpaCo_py",
   "language": "python",
   "name": "python3"
  },
  "language_info": {
   "codemirror_mode": {
    "name": "ipython",
    "version": 3
   },
   "file_extension": ".py",
   "mimetype": "text/x-python",
   "name": "python",
   "nbconvert_exporter": "python",
   "pygments_lexer": "ipython3",
   "version": "3.12.0"
  }
 },
 "nbformat": 4,
 "nbformat_minor": 2
}
