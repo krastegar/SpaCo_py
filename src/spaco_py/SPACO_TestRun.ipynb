{
 "cells": [
  {
   "cell_type": "code",
   "execution_count": 1,
   "metadata": {},
   "outputs": [],
   "source": [
    "from spaco_py.SpaCoObject import SPACO\n",
    "import pandas as pd \n",
    "import numpy as np\n",
    "import matplotlib.pyplot as plt"
   ]
  },
  {
   "cell_type": "code",
   "execution_count": 2,
   "metadata": {},
   "outputs": [],
   "source": [
    "# Sample x Features matrix + Adjacency matrix\n",
    "# Load the data\n",
    "sf_mat = pd.read_excel('/home/krastegar0/SpaCo_py/mouseBrainTestData/SF_brain.xlsx').to_numpy()"
   ]
  },
  {
   "cell_type": "code",
   "execution_count": 3,
   "metadata": {},
   "outputs": [],
   "source": [
    "A_mat = pd.read_csv('/home/krastegar0/SpaCo_py/mouseBrainTestData/A_mat_v2.csv').to_numpy()"
   ]
  },
  {
   "cell_type": "code",
   "execution_count": 4,
   "metadata": {},
   "outputs": [],
   "source": [
    "#Loading the coorddinates \n",
    "coords = pd.read_excel('/home/krastegar0/SpaCo_py/mouseBrainTestData/coords_brain.xlsx')"
   ]
  },
  {
   "cell_type": "code",
   "execution_count": 5,
   "metadata": {},
   "outputs": [],
   "source": [
    "def plot_spatial_heatmap(coords, values, title=\"Spatial Heatmap\", cmap=\"viridis\", point_size=50):\n",
    "    \"\"\"\n",
    "    Plots a discrete heatmap based on coordinates and corresponding values.\n",
    "    Args:\n",
    "        coords (numpy.ndarray): Array of shape (n_samples, 2) containing x and y coordinates.\n",
    "        values (numpy.ndarray): Array of shape (n_samples,) containing values corresponding to the coordinates.\n",
    "        title (str): Title of the plot.\n",
    "        cmap (str): Colormap to use for the heatmap.\n",
    "        point_size (int): Size of the points in the scatter plot.\n",
    "    \"\"\"\n",
    "    # Ensure inputs are NumPy arrays\n",
    "    coords = np.array(coords)\n",
    "    values = np.array(values)\n",
    "    # Create the scatter plot\n",
    "    plt.figure(figsize=(8, 6))\n",
    "    scatter = plt.scatter(coords[:, 0], coords[:, 1], c=values, cmap=cmap, s=point_size, edgecolor=\"k\")\n",
    "    plt.colorbar(scatter, label=\"Values\")\n",
    "    plt.title(title)\n",
    "    plt.xlabel(\"X Coordinate\")\n",
    "    plt.ylabel(\"Y Coordinate\")\n",
    "    plt.grid(True)\n",
    "    plt.show()\n",
    "# Example usage\n",
    "# Coordinates (x, y)\n",
    "# coords = coords\n",
    "# Values corresponding to the coordinates\n",
    "# values = spac_patterns_X[:, 0]  # Use the first SpaCo pattern for demonstration\n",
    "# Plot the heatmap\n",
    "# plot_spatial_heatmap(coords, values, title=\"First SpaC\",point_size=20)"
   ]
  },
  {
   "cell_type": "code",
   "execution_count": 9,
   "metadata": {},
   "outputs": [],
   "source": [
    "testObj = SPACO(neighbormatrix=A_mat, sample_features=sf_mat)"
   ]
  },
  {
   "cell_type": "code",
   "execution_count": 7,
   "metadata": {},
   "outputs": [
    {
     "name": "stdout",
     "output_type": "stream",
     "text": [
      "Initial number of lambdas in CI: 12\n",
      "size of CI: 0.00186 \n",
      "\n",
      "\n",
      "\n",
      "Size of results_all after iteration 1: 110\n",
      "Iteration 1: size of CI: 0.00173 # of lambdas in CI: 14\n",
      "\n",
      "\n",
      "Size of results_all after iteration 2: 120\n",
      "Iteration 2: size of CI: 0.00168 # of lambdas in CI: 14\n",
      "\n",
      "\n",
      "Size of results_all after iteration 3: 130\n",
      "Iteration 3: size of CI: 0.00159 # of lambdas in CI: 18\n",
      "\n",
      "\n",
      "Size of results_all after iteration 4: 140\n",
      "Iteration 4: size of CI: 0.0015 # of lambdas in CI: 18\n",
      "\n",
      "\n",
      "Size of results_all after iteration 5: 150\n",
      "Iteration 5: size of CI: 0.00141 # of lambdas in CI: 20\n",
      "\n",
      "\n",
      "Size of results_all after iteration 6: 160\n",
      "Iteration 6: size of CI: 0.00137 # of lambdas in CI: 22\n",
      "\n",
      "\n",
      "Size of results_all after iteration 7: 170\n",
      "Iteration 7: size of CI: 0.00131 # of lambdas in CI: 22\n",
      "\n",
      "\n",
      "Size of results_all after iteration 8: 180\n",
      "Iteration 8: size of CI: 0.00125 # of lambdas in CI: 22\n",
      "\n",
      "\n",
      "Size of results_all after iteration 9: 190\n",
      "Iteration 9: size of CI: 0.00122 # of lambdas in CI: 23\n",
      "\n",
      "\n",
      "Size of results_all after iteration 10: 200\n",
      "Iteration 10: size of CI: 0.00118 # of lambdas in CI: 21\n",
      "\n",
      "\n",
      "Size of results_all after iteration 11: 210\n",
      "Iteration 11: size of CI: 0.00115 # of lambdas in CI: 21\n",
      "\n",
      "\n",
      "Size of results_all after iteration 12: 220\n",
      "Iteration 12: size of CI: 0.00112 # of lambdas in CI: 21\n",
      "\n",
      "\n",
      "Size of results_all after iteration 13: 230\n",
      "Iteration 13: size of CI: 0.0011 # of lambdas in CI: 20\n",
      "\n",
      "\n",
      "Size of results_all after iteration 14: 240\n",
      "Iteration 14: size of CI: 0.00106 # of lambdas in CI: 19\n",
      "\n",
      "\n",
      "Size of results_all after iteration 15: 250\n",
      "Iteration 15: size of CI: 0.00104 # of lambdas in CI: 19\n",
      "\n",
      "\n",
      "Size of results_all after iteration 16: 260\n",
      "Iteration 16: size of CI: 0.00102 # of lambdas in CI: 22\n",
      "\n",
      "\n",
      "Size of results_all after iteration 17: 270\n",
      "Iteration 17: size of CI: 0.000989 # of lambdas in CI: 22\n",
      "\n",
      "\n",
      "Size of results_all after iteration 18: 280\n",
      "Iteration 18: size of CI: 0.000991 # of lambdas in CI: 21\n",
      "\n",
      "\n",
      "Size of results_all after iteration 19: 290\n",
      "Iteration 19: size of CI: 0.000979 # of lambdas in CI: 22\n",
      "\n",
      "\n",
      "Size of results_all after iteration 20: 300\n",
      "Iteration 20: size of CI: 0.000959 # of lambdas in CI: 22\n",
      "\n",
      "\n",
      "Size of results_all after iteration 21: 310\n",
      "Iteration 21: size of CI: 0.000972 # of lambdas in CI: 22\n",
      "\n",
      "\n",
      "Size of results_all after iteration 22: 320\n",
      "Iteration 22: size of CI: 0.000955 # of lambdas in CI: 23\n",
      "\n",
      "\n",
      "Size of results_all after iteration 23: 330\n",
      "Iteration 23: size of CI: 0.000943 # of lambdas in CI: 21\n",
      "\n",
      "\n",
      "Size of results_all after iteration 24: 340\n",
      "Iteration 24: size of CI: 0.000926 # of lambdas in CI: 22\n",
      "\n",
      "\n",
      "Size of results_all after iteration 25: 350\n",
      "Iteration 25: size of CI: 0.000905 # of lambdas in CI: 24\n",
      "\n",
      "\n",
      "Size of results_all after iteration 26: 360\n",
      "Iteration 26: size of CI: 0.000895 # of lambdas in CI: 23\n",
      "\n",
      "\n",
      "Size of results_all after iteration 27: 370\n",
      "Iteration 27: size of CI: 0.000878 # of lambdas in CI: 23\n",
      "\n",
      "\n",
      "Size of results_all after iteration 28: 380\n",
      "Iteration 28: size of CI: 0.000873 # of lambdas in CI: 23\n",
      "\n",
      "\n",
      "Size of results_all after iteration 29: 390\n",
      "Iteration 29: size of CI: 0.000863 # of lambdas in CI: 20\n",
      "\n",
      "\n",
      "Size of results_all after iteration 30: 400\n",
      "Iteration 30: size of CI: 0.000852 # of lambdas in CI: 21\n",
      "\n"
     ]
    },
    {
     "ename": "KeyboardInterrupt",
     "evalue": "",
     "output_type": "error",
     "traceback": [
      "\u001b[0;31m---------------------------------------------------------------------------\u001b[0m",
      "\u001b[0;31mKeyboardInterrupt\u001b[0m                         Traceback (most recent call last)",
      "Cell \u001b[0;32mIn[7], line 1\u001b[0m\n\u001b[0;32m----> 1\u001b[0m Pspac, Vkt \u001b[38;5;241m=\u001b[39m\u001b[43mtestObj\u001b[49m\u001b[38;5;241;43m.\u001b[39;49m\u001b[43mspaco_projection\u001b[49m\u001b[43m(\u001b[49m\u001b[43m)\u001b[49m\n",
      "File \u001b[0;32m~/SpaCo_py/src/spaco_py/SpaCoObject.py:439\u001b[0m, in \u001b[0;36mSPACO.spaco_projection\u001b[0;34m(self)\u001b[0m\n\u001b[1;32m    435\u001b[0m \u001b[38;5;28;01mdef\u001b[39;00m\u001b[38;5;250m \u001b[39m\u001b[38;5;21mspaco_projection\u001b[39m(\u001b[38;5;28mself\u001b[39m) \u001b[38;5;241m-\u001b[39m\u001b[38;5;241m>\u001b[39m Tuple[np\u001b[38;5;241m.\u001b[39mndarray, np\u001b[38;5;241m.\u001b[39mndarray]:\n\u001b[1;32m    436\u001b[0m \u001b[38;5;250m    \u001b[39m\u001b[38;5;124;03m\"\"\"\u001b[39;00m\n\u001b[1;32m    437\u001b[0m \u001b[38;5;124;03m    Project the sample features onto the SPACO space.\u001b[39;00m\n\u001b[1;32m    438\u001b[0m \u001b[38;5;124;03m    \"\"\"\u001b[39;00m\n\u001b[0;32m--> 439\u001b[0m     U \u001b[38;5;241m=\u001b[39m \u001b[38;5;28;43mself\u001b[39;49m\u001b[38;5;241;43m.\u001b[39;49m\u001b[43msampled_sorted_eigvecs\u001b[49m \u001b[38;5;241m/\u001b[39m np\u001b[38;5;241m.\u001b[39msqrt(\u001b[38;5;28mself\u001b[39m\u001b[38;5;241m.\u001b[39msampled_sorted_eigvals)\n\u001b[1;32m    440\u001b[0m     Vk \u001b[38;5;241m=\u001b[39m \u001b[38;5;28mself\u001b[39m\u001b[38;5;241m.\u001b[39mwhitened_data \u001b[38;5;241m@\u001b[39m U\n\u001b[1;32m    441\u001b[0m     Pspac \u001b[38;5;241m=\u001b[39m Vk \u001b[38;5;241m@\u001b[39m Vk\u001b[38;5;241m.\u001b[39mT \u001b[38;5;241m@\u001b[39m \u001b[38;5;28mself\u001b[39m\u001b[38;5;241m.\u001b[39mgraphLaplacian \u001b[38;5;241m@\u001b[39m \u001b[38;5;28mself\u001b[39m\u001b[38;5;241m.\u001b[39mSF\n",
      "File \u001b[0;32m~/SpaCo_py/src/spaco_py/SpaCoObject.py:109\u001b[0m, in \u001b[0;36mSPACO.__getattr__\u001b[0;34m(self, name)\u001b[0m\n\u001b[1;32m    107\u001b[0m     \u001b[38;5;28mself\u001b[39m\u001b[38;5;241m.\u001b[39m_cache[name] \u001b[38;5;241m=\u001b[39m \u001b[38;5;28mself\u001b[39m\u001b[38;5;241m.\u001b[39mspectral_results[\u001b[38;5;241m2\u001b[39m]\n\u001b[1;32m    108\u001b[0m \u001b[38;5;28;01melif\u001b[39;00m name \u001b[38;5;241m==\u001b[39m \u001b[38;5;124m\"\u001b[39m\u001b[38;5;124msampled_sorted_eigvecs\u001b[39m\u001b[38;5;124m\"\u001b[39m:\n\u001b[0;32m--> 109\u001b[0m     \u001b[38;5;28mself\u001b[39m\u001b[38;5;241m.\u001b[39m_cache[name] \u001b[38;5;241m=\u001b[39m \u001b[38;5;28;43mself\u001b[39;49m\u001b[38;5;241;43m.\u001b[39;49m\u001b[43mspectral_results\u001b[49m[\u001b[38;5;241m0\u001b[39m]\n\u001b[1;32m    110\u001b[0m \u001b[38;5;28;01melif\u001b[39;00m name \u001b[38;5;241m==\u001b[39m \u001b[38;5;124m\"\u001b[39m\u001b[38;5;124msampled_sorted_eigvals\u001b[39m\u001b[38;5;124m\"\u001b[39m:\n\u001b[1;32m    111\u001b[0m     \u001b[38;5;28mself\u001b[39m\u001b[38;5;241m.\u001b[39m_cache[name] \u001b[38;5;241m=\u001b[39m \u001b[38;5;28mself\u001b[39m\u001b[38;5;241m.\u001b[39mspectral_results[\u001b[38;5;241m1\u001b[39m]\n",
      "File \u001b[0;32m~/SpaCo_py/src/spaco_py/SpaCoObject.py:105\u001b[0m, in \u001b[0;36mSPACO.__getattr__\u001b[0;34m(self, name)\u001b[0m\n\u001b[1;32m    103\u001b[0m     \u001b[38;5;28mself\u001b[39m\u001b[38;5;241m.\u001b[39m_cache[name] \u001b[38;5;241m=\u001b[39m \u001b[38;5;28mself\u001b[39m\u001b[38;5;241m.\u001b[39m__pca_whitening()\n\u001b[1;32m    104\u001b[0m \u001b[38;5;28;01melif\u001b[39;00m name \u001b[38;5;241m==\u001b[39m \u001b[38;5;124m\"\u001b[39m\u001b[38;5;124mspectral_results\u001b[39m\u001b[38;5;124m\"\u001b[39m:\n\u001b[0;32m--> 105\u001b[0m     \u001b[38;5;28mself\u001b[39m\u001b[38;5;241m.\u001b[39m_cache[name] \u001b[38;5;241m=\u001b[39m \u001b[38;5;28;43mself\u001b[39;49m\u001b[38;5;241;43m.\u001b[39;49m\u001b[43m__spectral_filtering\u001b[49m\u001b[43m(\u001b[49m\u001b[43m)\u001b[49m\n\u001b[1;32m    106\u001b[0m \u001b[38;5;28;01melif\u001b[39;00m name \u001b[38;5;241m==\u001b[39m \u001b[38;5;124m\"\u001b[39m\u001b[38;5;124mgraphLaplacian\u001b[39m\u001b[38;5;124m\"\u001b[39m:\n\u001b[1;32m    107\u001b[0m     \u001b[38;5;28mself\u001b[39m\u001b[38;5;241m.\u001b[39m_cache[name] \u001b[38;5;241m=\u001b[39m \u001b[38;5;28mself\u001b[39m\u001b[38;5;241m.\u001b[39mspectral_results[\u001b[38;5;241m2\u001b[39m]\n",
      "File \u001b[0;32m~/SpaCo_py/src/spaco_py/SpaCoObject.py:427\u001b[0m, in \u001b[0;36mSPACO.__spectral_filtering\u001b[0;34m(self)\u001b[0m\n\u001b[1;32m    425\u001b[0m eigvals, eigvecs \u001b[38;5;241m=\u001b[39m eigvals[idx], eigvecs[:, idx]\n\u001b[1;32m    426\u001b[0m \u001b[38;5;28;01mif\u001b[39;00m \u001b[38;5;28mself\u001b[39m\u001b[38;5;241m.\u001b[39mcompute_nSpacs:\n\u001b[0;32m--> 427\u001b[0m     lambda_cut \u001b[38;5;241m=\u001b[39m \u001b[38;5;28;43mself\u001b[39;49m\u001b[38;5;241;43m.\u001b[39;49m\u001b[43m__resample_lambda_cut\u001b[49m\u001b[43m(\u001b[49m\u001b[43m)\u001b[49m\n\u001b[1;32m    428\u001b[0m \u001b[38;5;28;01melse\u001b[39;00m:\n\u001b[1;32m    429\u001b[0m     lambda_cut \u001b[38;5;241m=\u001b[39m np\u001b[38;5;241m.\u001b[39mmedian(eigvals)\n",
      "File \u001b[0;32m~/SpaCo_py/src/spaco_py/SpaCoObject.py:385\u001b[0m, in \u001b[0;36mSPACO.__resample_lambda_cut\u001b[0;34m(self, batch_size, n_iterations, n_simulations)\u001b[0m\n\u001b[1;32m    383\u001b[0m iterations \u001b[38;5;241m+\u001b[39m\u001b[38;5;241m=\u001b[39m \u001b[38;5;241m1\u001b[39m\n\u001b[1;32m    384\u001b[0m \u001b[38;5;66;03m# Adding the batch size to the number of iterations to steadily decrease the CI margins\u001b[39;00m\n\u001b[0;32m--> 385\u001b[0m batch_results \u001b[38;5;241m=\u001b[39m \u001b[38;5;28;43mself\u001b[39;49m\u001b[38;5;241;43m.\u001b[39;49m\u001b[43mreplicate\u001b[49m\u001b[43m(\u001b[49m\u001b[43mbatch_size\u001b[49m\u001b[43m)\u001b[49m\n\u001b[1;32m    387\u001b[0m \u001b[38;5;66;03m# Calculate the 95% CI and SE for the new batch of results\u001b[39;00m\n\u001b[1;32m    388\u001b[0m results_all\u001b[38;5;241m=\u001b[39mnp\u001b[38;5;241m.\u001b[39mappend(results_all, batch_results)\n",
      "File \u001b[0;32m~/SpaCo_py/src/spaco_py/SpaCoObject.py:330\u001b[0m, in \u001b[0;36mSPACO.replicate\u001b[0;34m(self, n_iterations)\u001b[0m\n\u001b[1;32m    326\u001b[0m \u001b[38;5;250m\u001b[39m\u001b[38;5;124;03m\"\"\"\u001b[39;00m\n\u001b[1;32m    327\u001b[0m \u001b[38;5;124;03mReplicate the __shuffle_decomp method n_iterations times using multithreading.\u001b[39;00m\n\u001b[1;32m    328\u001b[0m \u001b[38;5;124;03m\"\"\"\u001b[39;00m\n\u001b[1;32m    329\u001b[0m \u001b[38;5;28;01mwith\u001b[39;00m ThreadPoolExecutor() \u001b[38;5;28;01mas\u001b[39;00m executor:\n\u001b[0;32m--> 330\u001b[0m     results_all \u001b[38;5;241m=\u001b[39m \u001b[38;5;28;43mlist\u001b[39;49m\u001b[43m(\u001b[49m\n\u001b[1;32m    331\u001b[0m \u001b[43m        \u001b[49m\u001b[43mexecutor\u001b[49m\u001b[38;5;241;43m.\u001b[39;49m\u001b[43mmap\u001b[49m\u001b[43m(\u001b[49m\u001b[38;5;28;43;01mlambda\u001b[39;49;00m\u001b[43m \u001b[49m\u001b[43m_\u001b[49m\u001b[43m:\u001b[49m\u001b[43m \u001b[49m\u001b[38;5;28;43mself\u001b[39;49m\u001b[38;5;241;43m.\u001b[39;49m\u001b[43m__shuffle_decomp\u001b[49m\u001b[43m(\u001b[49m\u001b[43m)\u001b[49m\u001b[43m,\u001b[49m\u001b[43m \u001b[49m\u001b[38;5;28;43mrange\u001b[39;49m\u001b[43m(\u001b[49m\u001b[43mn_iterations\u001b[49m\u001b[43m)\u001b[49m\u001b[43m)\u001b[49m\n\u001b[1;32m    332\u001b[0m \u001b[43m    \u001b[49m\u001b[43m)\u001b[49m\n\u001b[1;32m    333\u001b[0m \u001b[38;5;28;01mreturn\u001b[39;00m np\u001b[38;5;241m.\u001b[39marray(results_all)\n",
      "File \u001b[0;32m~/.local/share/uv/python/cpython-3.12.0-linux-x86_64-gnu/lib/python3.12/concurrent/futures/_base.py:619\u001b[0m, in \u001b[0;36mExecutor.map.<locals>.result_iterator\u001b[0;34m()\u001b[0m\n\u001b[1;32m    616\u001b[0m \u001b[38;5;28;01mwhile\u001b[39;00m fs:\n\u001b[1;32m    617\u001b[0m     \u001b[38;5;66;03m# Careful not to keep a reference to the popped future\u001b[39;00m\n\u001b[1;32m    618\u001b[0m     \u001b[38;5;28;01mif\u001b[39;00m timeout \u001b[38;5;129;01mis\u001b[39;00m \u001b[38;5;28;01mNone\u001b[39;00m:\n\u001b[0;32m--> 619\u001b[0m         \u001b[38;5;28;01myield\u001b[39;00m \u001b[43m_result_or_cancel\u001b[49m\u001b[43m(\u001b[49m\u001b[43mfs\u001b[49m\u001b[38;5;241;43m.\u001b[39;49m\u001b[43mpop\u001b[49m\u001b[43m(\u001b[49m\u001b[43m)\u001b[49m\u001b[43m)\u001b[49m\n\u001b[1;32m    620\u001b[0m     \u001b[38;5;28;01melse\u001b[39;00m:\n\u001b[1;32m    621\u001b[0m         \u001b[38;5;28;01myield\u001b[39;00m _result_or_cancel(fs\u001b[38;5;241m.\u001b[39mpop(), end_time \u001b[38;5;241m-\u001b[39m time\u001b[38;5;241m.\u001b[39mmonotonic())\n",
      "File \u001b[0;32m~/.local/share/uv/python/cpython-3.12.0-linux-x86_64-gnu/lib/python3.12/concurrent/futures/_base.py:317\u001b[0m, in \u001b[0;36m_result_or_cancel\u001b[0;34m(***failed resolving arguments***)\u001b[0m\n\u001b[1;32m    315\u001b[0m \u001b[38;5;28;01mtry\u001b[39;00m:\n\u001b[1;32m    316\u001b[0m     \u001b[38;5;28;01mtry\u001b[39;00m:\n\u001b[0;32m--> 317\u001b[0m         \u001b[38;5;28;01mreturn\u001b[39;00m \u001b[43mfut\u001b[49m\u001b[38;5;241;43m.\u001b[39;49m\u001b[43mresult\u001b[49m\u001b[43m(\u001b[49m\u001b[43mtimeout\u001b[49m\u001b[43m)\u001b[49m\n\u001b[1;32m    318\u001b[0m     \u001b[38;5;28;01mfinally\u001b[39;00m:\n\u001b[1;32m    319\u001b[0m         fut\u001b[38;5;241m.\u001b[39mcancel()\n",
      "File \u001b[0;32m~/.local/share/uv/python/cpython-3.12.0-linux-x86_64-gnu/lib/python3.12/concurrent/futures/_base.py:451\u001b[0m, in \u001b[0;36mFuture.result\u001b[0;34m(self, timeout)\u001b[0m\n\u001b[1;32m    448\u001b[0m \u001b[38;5;28;01melif\u001b[39;00m \u001b[38;5;28mself\u001b[39m\u001b[38;5;241m.\u001b[39m_state \u001b[38;5;241m==\u001b[39m FINISHED:\n\u001b[1;32m    449\u001b[0m     \u001b[38;5;28;01mreturn\u001b[39;00m \u001b[38;5;28mself\u001b[39m\u001b[38;5;241m.\u001b[39m__get_result()\n\u001b[0;32m--> 451\u001b[0m \u001b[38;5;28;43mself\u001b[39;49m\u001b[38;5;241;43m.\u001b[39;49m\u001b[43m_condition\u001b[49m\u001b[38;5;241;43m.\u001b[39;49m\u001b[43mwait\u001b[49m\u001b[43m(\u001b[49m\u001b[43mtimeout\u001b[49m\u001b[43m)\u001b[49m\n\u001b[1;32m    453\u001b[0m \u001b[38;5;28;01mif\u001b[39;00m \u001b[38;5;28mself\u001b[39m\u001b[38;5;241m.\u001b[39m_state \u001b[38;5;129;01min\u001b[39;00m [CANCELLED, CANCELLED_AND_NOTIFIED]:\n\u001b[1;32m    454\u001b[0m     \u001b[38;5;28;01mraise\u001b[39;00m CancelledError()\n",
      "File \u001b[0;32m~/.local/share/uv/python/cpython-3.12.0-linux-x86_64-gnu/lib/python3.12/threading.py:334\u001b[0m, in \u001b[0;36mCondition.wait\u001b[0;34m(self, timeout)\u001b[0m\n\u001b[1;32m    332\u001b[0m \u001b[38;5;28;01mtry\u001b[39;00m:    \u001b[38;5;66;03m# restore state no matter what (e.g., KeyboardInterrupt)\u001b[39;00m\n\u001b[1;32m    333\u001b[0m     \u001b[38;5;28;01mif\u001b[39;00m timeout \u001b[38;5;129;01mis\u001b[39;00m \u001b[38;5;28;01mNone\u001b[39;00m:\n\u001b[0;32m--> 334\u001b[0m         \u001b[43mwaiter\u001b[49m\u001b[38;5;241;43m.\u001b[39;49m\u001b[43macquire\u001b[49m\u001b[43m(\u001b[49m\u001b[43m)\u001b[49m\n\u001b[1;32m    335\u001b[0m         gotit \u001b[38;5;241m=\u001b[39m \u001b[38;5;28;01mTrue\u001b[39;00m\n\u001b[1;32m    336\u001b[0m     \u001b[38;5;28;01melse\u001b[39;00m:\n",
      "\u001b[0;31mKeyboardInterrupt\u001b[0m: "
     ]
    }
   ],
   "source": [
    "Pspac, Vkt =testObj.spaco_projection()"
   ]
  },
  {
   "cell_type": "code",
   "execution_count": 8,
   "metadata": {},
   "outputs": [
    {
     "ename": "NameError",
     "evalue": "name 'Vkt' is not defined",
     "output_type": "error",
     "traceback": [
      "\u001b[0;31m---------------------------------------------------------------------------\u001b[0m",
      "\u001b[0;31mNameError\u001b[0m                                 Traceback (most recent call last)",
      "Cell \u001b[0;32mIn[8], line 1\u001b[0m\n\u001b[0;32m----> 1\u001b[0m \u001b[43mVkt\u001b[49m\u001b[38;5;241m.\u001b[39mshape\n",
      "\u001b[0;31mNameError\u001b[0m: name 'Vkt' is not defined"
     ]
    }
   ],
   "source": [
    "Vkt.shape"
   ]
  },
  {
   "cell_type": "code",
   "execution_count": null,
   "metadata": {},
   "outputs": [
    {
     "data": {
      "text/plain": [
       "(2696, 3000)"
      ]
     },
     "execution_count": 9,
     "metadata": {},
     "output_type": "execute_result"
    }
   ],
   "source": [
    "sf_mat.shape"
   ]
  },
  {
   "cell_type": "code",
   "execution_count": null,
   "metadata": {},
   "outputs": [
    {
     "data": {
      "text/plain": [
       "np.float64(1.317924945893584)"
      ]
     },
     "execution_count": 10,
     "metadata": {},
     "output_type": "execute_result"
    }
   ],
   "source": [
    "testObj.lambda_cut"
   ]
  },
  {
   "cell_type": "code",
   "execution_count": null,
   "metadata": {},
   "outputs": [
    {
     "data": {
      "text/plain": [
       "306"
      ]
     },
     "execution_count": 11,
     "metadata": {},
     "output_type": "execute_result"
    }
   ],
   "source": [
    "testObj.nSpacs"
   ]
  },
  {
   "cell_type": "code",
   "execution_count": null,
   "metadata": {},
   "outputs": [
    {
     "data": {
      "text/html": [
       "<div>\n",
       "<style scoped>\n",
       "    .dataframe tbody tr th:only-of-type {\n",
       "        vertical-align: middle;\n",
       "    }\n",
       "\n",
       "    .dataframe tbody tr th {\n",
       "        vertical-align: top;\n",
       "    }\n",
       "\n",
       "    .dataframe thead th {\n",
       "        text-align: right;\n",
       "    }\n",
       "</style>\n",
       "<table border=\"1\" class=\"dataframe\">\n",
       "  <thead>\n",
       "    <tr style=\"text-align: right;\">\n",
       "      <th></th>\n",
       "      <th>row</th>\n",
       "      <th>col</th>\n",
       "    </tr>\n",
       "  </thead>\n",
       "  <tbody>\n",
       "    <tr>\n",
       "      <th>0</th>\n",
       "      <td>50</td>\n",
       "      <td>102</td>\n",
       "    </tr>\n",
       "    <tr>\n",
       "      <th>1</th>\n",
       "      <td>59</td>\n",
       "      <td>19</td>\n",
       "    </tr>\n",
       "    <tr>\n",
       "      <th>2</th>\n",
       "      <td>14</td>\n",
       "      <td>94</td>\n",
       "    </tr>\n",
       "    <tr>\n",
       "      <th>3</th>\n",
       "      <td>43</td>\n",
       "      <td>9</td>\n",
       "    </tr>\n",
       "    <tr>\n",
       "      <th>4</th>\n",
       "      <td>47</td>\n",
       "      <td>13</td>\n",
       "    </tr>\n",
       "    <tr>\n",
       "      <th>...</th>\n",
       "      <td>...</td>\n",
       "      <td>...</td>\n",
       "    </tr>\n",
       "    <tr>\n",
       "      <th>2691</th>\n",
       "      <td>51</td>\n",
       "      <td>59</td>\n",
       "    </tr>\n",
       "    <tr>\n",
       "      <th>2692</th>\n",
       "      <td>24</td>\n",
       "      <td>64</td>\n",
       "    </tr>\n",
       "    <tr>\n",
       "      <th>2693</th>\n",
       "      <td>31</td>\n",
       "      <td>77</td>\n",
       "    </tr>\n",
       "    <tr>\n",
       "      <th>2694</th>\n",
       "      <td>58</td>\n",
       "      <td>42</td>\n",
       "    </tr>\n",
       "    <tr>\n",
       "      <th>2695</th>\n",
       "      <td>45</td>\n",
       "      <td>27</td>\n",
       "    </tr>\n",
       "  </tbody>\n",
       "</table>\n",
       "<p>2696 rows × 2 columns</p>\n",
       "</div>"
      ],
      "text/plain": [
       "      row  col\n",
       "0      50  102\n",
       "1      59   19\n",
       "2      14   94\n",
       "3      43    9\n",
       "4      47   13\n",
       "...   ...  ...\n",
       "2691   51   59\n",
       "2692   24   64\n",
       "2693   31   77\n",
       "2694   58   42\n",
       "2695   45   27\n",
       "\n",
       "[2696 rows x 2 columns]"
      ]
     },
     "execution_count": 12,
     "metadata": {},
     "output_type": "execute_result"
    }
   ],
   "source": [
    "\"\"\"\n",
    "The problem is that as we increase the number of elements in result_all, we are increasing\n",
    "the number of elements in the result_all list, which would normally be fine but it seems that we are \n",
    "increasing the number of eigenvalues that are almost exactly the same. Why do i think this? Thats becase\n",
    "as the number of elements increases due to the batch size argument, its like we are putting the same matrix\n",
    "inside the function multiple times. resulting ridiculously high number of eigenvalues that are almost\n",
    "the same. So in summary we are increasing the number of eigenvalues inside the CI at a faster rate \n",
    "than shrinking the CI. \n",
    "\n",
    "Possible solution:\n",
    "Look at the the values that are being added by the concancatenation of the result_all list.\n",
    "If all of these eigen values are the same, then we know that the issue is with the batch size\n",
    "appending portion of the for loop. Because the CI is decreasing and result_all is increasing\n",
    "as intended. But the eigenvalues are not changing as much as they should be. \n",
    "\n",
    "Another thing is to look at the permutation of the whitened data again. Maybe the permutation\n",
    "is not being done correctly. By this I mean we are getting too similar of matricies. \n",
    "\"\"\""
   ]
  }
 ],
 "metadata": {
  "kernelspec": {
   "display_name": ".venv",
   "language": "python",
   "name": "python3"
  },
  "language_info": {
   "codemirror_mode": {
    "name": "ipython",
    "version": 3
   },
   "file_extension": ".py",
   "mimetype": "text/x-python",
   "name": "python",
   "nbconvert_exporter": "python",
   "pygments_lexer": "ipython3",
   "version": "3.12.0"
  }
 },
 "nbformat": 4,
 "nbformat_minor": 2
}
