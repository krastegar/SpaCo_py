{
 "cells": [
  {
   "cell_type": "code",
   "execution_count": null,
   "metadata": {},
   "outputs": [],
   "source": [
    "from spaco_py.SpaCoObject import SPACO\n",
    "import pandas as pd \n",
    "import numpy as np\n",
    "import matplotlib.pyplot as plt\n",
    "import seaborn as sns\n",
    "from momentchi2 import wf, hbe"
   ]
  },
  {
   "cell_type": "code",
   "execution_count": null,
   "metadata": {},
   "outputs": [],
   "source": [
    "sf = np.load(\n",
    "    \"/home/krastega0/SpaCo_py/src/spaco_py/sf_mat.npy\", allow_pickle=False\n",
    ")\n",
    "neighbor = np.load(\n",
    "    \"/home/krastega0/SpaCo_py/src/spaco_py/A_mat.npy\", allow_pickle=False\n",
    ")"
   ]
  },
  {
   "cell_type": "code",
   "execution_count": null,
   "metadata": {},
   "outputs": [],
   "source": [
    "#Loading the coorddinates \n",
    "coords = pd.read_excel('/home/krastega0/SpaCo_py/src/spaco_py/coords_brain.xlsx')"
   ]
  },
  {
   "cell_type": "code",
   "execution_count": null,
   "metadata": {},
   "outputs": [],
   "source": [
    "testObj = SPACO(neighbormatrix=neighbor, sample_features=sf, coords=coords)"
   ]
  },
  {
   "cell_type": "code",
   "execution_count": null,
   "metadata": {},
   "outputs": [],
   "source": [
    "Pspac, Vkt =testObj.spaco_projection()"
   ]
  },
  {
   "cell_type": "markdown",
   "metadata": {},
   "source": [
    "\n",
    "## Remarks on Fig 1\n",
    "The distribution of eigenvalues shows the non-random eigenvalues in blue and the random permuted eigenvalues in orange.\n",
    "The non-random eigenvalues represent the true structure of the data, while the random permuted eigenvalues serve as a null distribution for comparison.\n",
    "We use the upper 95% confidence interval of the random permuted eigenvalues to determine the significance of the non-random eigenvalues.\n",
    "The non-random eigenvalues that exceed this threshold are considered significant and indicate the presence of meaningful patterns in the data.\n",
    "The plot provides a visual representation of the eigenvalue distributions, allowing us to assess the significance of the non-random eigenvalues in relation to the random permuted eigenvalues.\n",
    "      \n",
    "      "
   ]
  },
  {
   "cell_type": "markdown",
   "metadata": {},
   "source": [
    "## Determing a metric to see if this pattern is actually spatially \n",
    "Here we see our first spatial pattern but how can we tell if the patterns that we see are actually spatial or they are just artifacts. We look at the length of the projections as the measure of \"Smoothness\" for a spatial gene "
   ]
  },
  {
   "cell_type": "code",
   "execution_count": null,
   "metadata": {},
   "outputs": [],
   "source": [
    "graphLaplacian=testObj._cache[\"spectral_results\"][2]\n",
    "graphLaplacian"
   ]
  },
  {
   "cell_type": "code",
   "execution_count": null,
   "metadata": {},
   "outputs": [],
   "source": [
    "coeefficients = testObj._cache[\"sigma_eigh\"]\n",
    "coeefficients"
   ]
  },
  {
   "cell_type": "code",
   "execution_count": null,
   "metadata": {},
   "outputs": [],
   "source": [
    "# generating the theoretical null distribution\n",
    "# first need to create a vector of random chi_squared variables\n",
    "coeefficients = testObj._cache[\"sigma_eigh\"]\n",
    "n = len(testObj._cache[\"sigma_eigh\"])\n",
    "chi2_random = np.random.chisquare(df=1, size=n)\n",
    "\n",
    "# then we need to scale them by the eigenvalues\n",
    "theoretical_null = [coeefficients.T @ np.random.chisquare(df=1, size=n) for i in range(10000)]\n",
    "len(theoretical_null)"
   ]
  },
  {
   "cell_type": "code",
   "execution_count": null,
   "metadata": {},
   "outputs": [],
   "source": [
    "# generate random normal distributed vector\n",
    "normal_random = np.random.normal(size=Vkt.shape[0])\n",
    "\n",
    "# generate the test statistic for this random simulated pattern \n",
    "rand_test_statistic = []\n",
    "for i in range(10000):\n",
    "    rand_projection = np.random.normal(size=Vkt.shape[0]).T @ graphLaplacian @ Vkt\n",
    "    #rand_projection = Vkt.T @ graphLaplacian @ np.random.normal(size=Vkt.shape[0])\n",
    "    len_proj = rand_projection.T @ rand_projection\n",
    "    rand_test_statistic.append(len_proj)\n",
    "len(rand_test_statistic)"
   ]
  },
  {
   "cell_type": "code",
   "execution_count": null,
   "metadata": {},
   "outputs": [],
   "source": [
    "plt.figure(figsize=(10, 6))\n",
    "plt.hist(rand_test_statistic, bins=50, color='blue', alpha=0.6, label='Random Test Statistic')\n",
    "plt.hist(theoretical_null, bins=50, color='orange', alpha=0.6, label='Theoretical Null')\n",
    "plt.xlabel('Value')\n",
    "plt.ylabel('Frequency')\n",
    "plt.title('Comparison of Random Test Statistic and Theoretical Null Distributions')\n",
    "plt.legend()\n",
    "plt.show()"
   ]
  },
  {
   "cell_type": "code",
   "execution_count": null,
   "metadata": {},
   "outputs": [],
   "source": [
    "import numpy as np\n",
    "from scipy.stats import ks_2samp\n",
    "\n",
    "# Perform the two-sample Kolmogorov-Smirnov (KS) test to determine if the two distributions are significantly different\n",
    "# theoretical_null and rand_test_statistic are the two samples to compare\n",
    "# Perform the two-sample KS test\n",
    "_, p_value = ks_2samp(theoretical_null, rand_test_statistic)\n",
    "\n",
    "print(f\"p-value: {p_value}\")\n",
    "\n",
    "if p_value > 0.05:\n",
    "    print(\"The two arrays likely come from the same distribution.\")\n",
    "else:\n",
    "    print(\"The two arrays likely come from different distributions.\")"
   ]
  },
  {
   "cell_type": "markdown",
   "metadata": {},
   "source": [
    "## plot spatial heatmap to confirm statistically and visually that the pattern is spatial"
   ]
  },
  {
   "cell_type": "code",
   "execution_count": null,
   "metadata": {},
   "outputs": [],
   "source": [
    "spatially_significant_columns = []\n",
    "for i in range(testObj.SF.shape[1]):\n",
    "    \n",
    "    temp_stat = testObj.SF[:, i].T @ graphLaplacian @ Vkt\n",
    "    t_spac1 = temp_stat.T @ temp_stat\n",
    "    if t_spac1 > 1.7:\n",
    "        spatially_significant_columns.append(i)\n",
    "len(spatially_significant_columns)"
   ]
  },
  {
   "cell_type": "code",
   "execution_count": null,
   "metadata": {},
   "outputs": [],
   "source": [
    "num_patterns = len(spatially_significant_columns)\n",
    "fig, axes = plt.subplots(1, num_patterns, figsize=(6 * num_patterns, 6))\n",
    "\n",
    "if num_patterns == 1:\n",
    "    axes = [axes]\n",
    "\n",
    "for ax, idx in zip(axes, spatially_significant_columns):\n",
    "    values = Pspac[:, idx]\n",
    "    scatter = ax.scatter(coords['row'], coords['col'], c=values, cmap=\"viridis\", s=20, edgecolor=\"k\")\n",
    "    ax.set_title(f\"SpaCo Pattern {idx}\")\n",
    "    ax.set_xlabel(\"X Coordinate\")\n",
    "    ax.set_ylabel(\"Y Coordinate\")\n",
    "    plt.colorbar(scatter, ax=ax, label=\"Values\")\n",
    "\n",
    "plt.tight_layout()\n",
    "plt.show()"
   ]
  },
  {
   "cell_type": "code",
   "execution_count": null,
   "metadata": {},
   "outputs": [],
   "source": [
    "\n",
    "\n",
    "\n",
    "p_value, test_stat = testObj.spaco_test(testObj.SF[:, 450])\n",
    "print(f\"p-value: {p_value}, test statistic: {test_stat}\")\n",
    "# Plotting the spatial heatmap for the 450th SpaCo pattern\n",
    "#testObj.plot_spatial_heatmap(coords, testObj.SF[:, 450], \"450th SpaCo pattern\", point_size=20)\n",
    "testObj.coords"
   ]
  },
  {
   "cell_type": "code",
   "execution_count": null,
   "metadata": {},
   "outputs": [],
   "source": [
    "p_value, test_stat = testObj.spaco_test(testObj.SF[:, 2845])\n",
    "print(f\"p-value: {p_value}, test statistic: {test_stat}\")\n",
    "# Plotting the spatial heatmap for the 2845th SpaCo pattern\n",
    "#plot_spatial_heatmap(coords, testObj.SF[:, 2845], title=\"2845th SpaCo pattern\", point_size=20)\n",
    "testObj.plot_spatial_heatmap( testObj.SF[:, 2845], \"Correctly Oriented plot SpaCo pattern (Ttr)\", cmap=\"viridis\", point_size=20)"
   ]
  },
  {
   "cell_type": "code",
   "execution_count": null,
   "metadata": {},
   "outputs": [],
   "source": [
    "p_value, test_stat = testObj.spaco_test(testObj.SF[:, 450])\n",
    "print(f\"p-value: {p_value}, test statistic: {test_stat}\")\n",
    "# Plotting the spatial heatmap for the 450th SpaCo pattern\n",
    "#plot_spatial_heatmap(coords, testObj.SF[:, 450], title=\"450th SpaCo pattern\", point_size=20)\n",
    "testObj.plot_spatial_heatmap( testObj.SF[:, 450], \"Non-Spatial Pattern\", cmap=\"viridis\", point_size=20)"
   ]
  },
  {
   "cell_type": "code",
   "execution_count": null,
   "metadata": {},
   "outputs": [],
   "source": []
  }
 ],
 "metadata": {
  "kernelspec": {
   "display_name": "SpaCo_py",
   "language": "python",
   "name": "python3"
  },
  "language_info": {
   "codemirror_mode": {
    "name": "ipython",
    "version": 3
   },
   "file_extension": ".py",
   "mimetype": "text/x-python",
   "name": "python",
   "nbconvert_exporter": "python",
   "pygments_lexer": "ipython3",
   "version": "3.12.0"
  }
 },
 "nbformat": 4,
 "nbformat_minor": 2
}
