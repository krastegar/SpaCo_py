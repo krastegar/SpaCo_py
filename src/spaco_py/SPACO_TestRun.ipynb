{
 "cells": [
  {
   "cell_type": "code",
   "execution_count": 18,
   "metadata": {},
   "outputs": [],
   "source": [
    "from spaco_py.SpaCoObject import SPACO\n",
    "import pandas as pd \n",
    "import numpy as np\n",
    "import matplotlib.pyplot as plt\n",
    "import seaborn as sns\n",
    "from momentchi2 import wf, hbe"
   ]
  },
  {
   "cell_type": "code",
   "execution_count": 2,
   "metadata": {},
   "outputs": [],
   "source": [
    "sf = np.load(\n",
    "    \"/home/krastegar0/SpaCo_py/src/spaco_py/sf_mat.npy\", allow_pickle=False\n",
    ")\n",
    "neighbor = np.load(\n",
    "    \"/home/krastegar0/SpaCo_py/src/spaco_py/A_mat.npy\", allow_pickle=False\n",
    ")"
   ]
  },
  {
   "cell_type": "code",
   "execution_count": 3,
   "metadata": {},
   "outputs": [],
   "source": [
    "#Loading the coorddinates \n",
    "coords = pd.read_excel('/home/krastegar0/SpaCo_py/mouseBrainTestData/coords_brain.xlsx')"
   ]
  },
  {
   "cell_type": "code",
   "execution_count": 39,
   "metadata": {},
   "outputs": [],
   "source": [
    "def plot_spatial_heatmap(coords, values, title=\"Spatial Heatmap\", cmap=\"viridis\", point_size=50):\n",
    "    \"\"\"\n",
    "    Plots a discrete heatmap based on coordinates and corresponding values.\n",
    "    Args:\n",
    "        coords (numpy.ndarray): Array of shape (n_samples, 2) containing x and y coordinates.\n",
    "        values (numpy.ndarray): Array of shape (n_samples,) containing values corresponding to the coordinates.\n",
    "        title (str): Title of the plot.\n",
    "        cmap (str): Colormap to use for the heatmap.\n",
    "        point_size (int): Size of the points in the scatter plot.\n",
    "    \"\"\"\n",
    "    # Ensure inputs are NumPy arrays\n",
    "    coords = np.array(coords)\n",
    "    values = np.array(values)\n",
    "    # Create the scatter plot\n",
    "    plt.figure(figsize=(8, 6))\n",
    "    scatter = plt.scatter(coords[:, 0], coords[:, 1], c=values, cmap=cmap, s=point_size, edgecolor=\"k\")\n",
    "    plt.colorbar(scatter, label=\"Values\")\n",
    "    plt.title(title)\n",
    "    plt.xlabel(\"X Coordinate\")\n",
    "    plt.ylabel(\"Y Coordinate\")\n",
    "    plt.grid(True)\n",
    "    plt.savefig(f'{title}.png', dpi=300, bbox_inches='tight')\n",
    "    plt.show()\n",
    "# Example usage\n",
    "# Coordinates (x, y)\n",
    "# coords = coords\n",
    "# Values corresponding to the coordinates\n",
    "# values = spac_patterns_X[:, 0]  # Use the first SpaCo pattern for demonstration\n",
    "# Plot the heatmap\n",
    "# plot_spatial_heatmap(coords, values, title=\"First SpaC\",point_size=20)"
   ]
  },
  {
   "cell_type": "code",
   "execution_count": 5,
   "metadata": {},
   "outputs": [],
   "source": [
    "testObj = SPACO(neighbormatrix=neighbor, sample_features=sf)"
   ]
  },
  {
   "cell_type": "code",
   "execution_count": 6,
   "metadata": {},
   "outputs": [
    {
     "name": "stdout",
     "output_type": "stream",
     "text": [
      "Inital CI: 1.766 - 1.768\n",
      "\n",
      "INITIAL # of elements in CI: 0\n",
      " size of CI: 0.00176\n"
     ]
    }
   ],
   "source": [
    "Pspac, Vkt =testObj.spaco_projection()"
   ]
  },
  {
   "cell_type": "code",
   "execution_count": 7,
   "metadata": {},
   "outputs": [],
   "source": [
    "non_random_eigvals = testObj._cache[\"non_random_eigvals\"]\n",
    "random_permuted_eigvals = testObj._cache[\"results_all\"]"
   ]
  },
  {
   "cell_type": "markdown",
   "metadata": {},
   "source": [
    "\n",
    "## Remarks on Fig 1\n",
    "The distribution of eigenvalues shows the non-random eigenvalues in blue and the random permuted eigenvalues in orange.\n",
    "The non-random eigenvalues represent the true structure of the data, while the random permuted eigenvalues serve as a null distribution for comparison.\n",
    "We use the upper 95% confidence interval of the random permuted eigenvalues to determine the significance of the non-random eigenvalues.\n",
    "The non-random eigenvalues that exceed this threshold are considered significant and indicate the presence of meaningful patterns in the data.\n",
    "The plot provides a visual representation of the eigenvalue distributions, allowing us to assess the significance of the non-random eigenvalues in relation to the random permuted eigenvalues.\n",
    "      \n",
    "      "
   ]
  },
  {
   "cell_type": "markdown",
   "metadata": {},
   "source": [
    "## Determing a metric to see if this pattern is actually spatially \n",
    "Here we see our first spatial pattern but how can we tell if the patterns that we see are actually spatial or they are just artifacts. We look at the length of the projections as the measure of \"Smoothness\" for a spatial gene "
   ]
  },
  {
   "cell_type": "code",
   "execution_count": 10,
   "metadata": {},
   "outputs": [],
   "source": [
    "def spaco_test(self, x: np.ndarray) -> float:\n",
    "    \"\"\"\n",
    "    Compute the spatially variable test statistic for any given input vector x.\n",
    "\n",
    "    Returns\n",
    "    -------\n",
    "    sigma: np.ndarray\n",
    "        The eigenvalues of the transformed matrix.\n",
    "    \"\"\"\n",
    "\n",
    "    # Scaling input vector (should this just be centered and not scaled? )\n",
    "    gene: np.ndarray = (x - x.mean()) / x.std()\n",
    "    assert np.isclose(gene.mean(), 0, atol=1e-8) and np.isclose(\n",
    "        gene.std(), 1, atol=1e-8\n",
    "    ), \"Gene is not centered and scaled\"\n",
    "\n",
    "    # Compute the eigenvalues of the transformed matrix and the graph Laplacian (L)\n",
    "    sorted_sigma_eigh = self.sigma_eigh[::-1]\n",
    "    # printing all the variables berfore the test statistic\n",
    "\n",
    "    # Normalize the scaled data\n",
    "    gene = gene / np.repeat(np.sqrt(gene.T @ self.graphLaplacian @ gene), len(gene))\n",
    "    print(f\"sigma: {self.sigma.shape}\\ngene: {gene.shape}\")\n",
    "    # Compute the test statistic\n",
    "    test_statistic: float = float(gene.T @ self.sigma @ gene)\n",
    "    # print(f'test statistic: {test_statistic}\\n\\n\\n sorted_sigma_eigenvals: {sorted_sigma_eigh[:nSpacs]}')\n",
    "    # pval test statistic\n",
    "    pVal: float = self.__psum_chisq(\n",
    "        q=test_statistic, eig_vals=sorted_sigma_eigh[: self.Vk.shape[1]]\n",
    "    )\n",
    "    print(\n",
    "        f\"pval: {pVal}\\ntest statistic: {test_statistic}\\nlambda cut: {self.lambda_cut}\"\n",
    "    )\n",
    "    return pVal, test_statistic"
   ]
  },
  {
   "cell_type": "code",
   "execution_count": 11,
   "metadata": {},
   "outputs": [
    {
     "name": "stdout",
     "output_type": "stream",
     "text": [
      "sigma: (2696, 2696)\n",
      "gene: (2696,)\n",
      "pval: -0.4456515974592101\n",
      "test statistic: 1.0000000000000002\n",
      "lambda cut: None\n"
     ]
    },
    {
     "data": {
      "text/plain": [
       "(-0.4456515974592101, 1.0000000000000002)"
      ]
     },
     "execution_count": 11,
     "metadata": {},
     "output_type": "execute_result"
    }
   ],
   "source": [
    "# need to generate the sigma matrix and sigma eigenvlaues for test statistic using \n",
    "testObj.spaco_test(Pspac[:, 0])"
   ]
  },
  {
   "cell_type": "code",
   "execution_count": 12,
   "metadata": {},
   "outputs": [],
   "source": [
    "coeff=testObj._cache[\"sigma_eigh\"]"
   ]
  },
  {
   "cell_type": "code",
   "execution_count": 13,
   "metadata": {},
   "outputs": [],
   "source": [
    "Q_sig=testObj._cache[\"sigma\"]"
   ]
  },
  {
   "cell_type": "markdown",
   "metadata": {},
   "source": [
    "### Going to use python momentchi2 package to run the weighted sum of chi2 distribution \n",
    "Here we attempt to use a weighted sum of chi2 package to determine if the length of the projected spaco pattern relates to a spatially relevant gene "
   ]
  },
  {
   "cell_type": "markdown",
   "metadata": {},
   "source": []
  },
  {
   "cell_type": "code",
   "execution_count": 35,
   "metadata": {},
   "outputs": [
    {
     "data": {
      "text/plain": [
       "np.float64(0.9999999999999999)"
      ]
     },
     "execution_count": 35,
     "metadata": {},
     "output_type": "execute_result"
    }
   ],
   "source": [
    "gene = Vkt[:, 1]\n",
    "#gene = gene / np.repeat(np.sqrt(gene.T @ testObj.graphLaplacian @ gene), len(gene))\n",
    "test_statistic: float = gene.T @ Q_sig @ gene\n",
    "sorted_sigma_eigh = coeff[::-1]\n",
    "non_zero_coef = sorted_sigma_eigh[sorted_sigma_eigh > 0]\n",
    "# pVal test statistic\n",
    "pval=wf(non_zero_coef, test_statistic)\n",
    "pval"
   ]
  },
  {
   "cell_type": "code",
   "execution_count": 36,
   "metadata": {},
   "outputs": [
    {
     "data": {
      "text/plain": [
       "np.float64(1.0000000000000013)"
      ]
     },
     "execution_count": 36,
     "metadata": {},
     "output_type": "execute_result"
    }
   ],
   "source": [
    "test_statistic"
   ]
  }
 ],
 "metadata": {
  "kernelspec": {
   "display_name": ".venv",
   "language": "python",
   "name": "python3"
  },
  "language_info": {
   "codemirror_mode": {
    "name": "ipython",
    "version": 3
   },
   "file_extension": ".py",
   "mimetype": "text/x-python",
   "name": "python",
   "nbconvert_exporter": "python",
   "pygments_lexer": "ipython3",
   "version": "3.12.0"
  }
 },
 "nbformat": 4,
 "nbformat_minor": 2
}
