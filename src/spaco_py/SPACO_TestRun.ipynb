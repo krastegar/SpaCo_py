{
 "cells": [
  {
   "cell_type": "code",
   "execution_count": null,
   "metadata": {},
   "outputs": [],
   "source": [
    "from spaco_py.SpaCoObject import SPACO\n",
    "import pandas as pd \n",
    "import numpy as np\n",
    "import matplotlib.pyplot as plt\n",
    "import seaborn as sns\n",
    "from momentchi2 import wf, hbe"
   ]
  },
  {
   "cell_type": "code",
   "execution_count": null,
   "metadata": {},
   "outputs": [],
   "source": [
    "sf = np.load(\n",
    "    \"/home/krastegar0/SpaCo_py/src/spaco_py/sf_mat.npy\", allow_pickle=False\n",
    ")\n",
    "neighbor = np.load(\n",
    "    \"/home/krastegar0/SpaCo_py/src/spaco_py/A_mat.npy\", allow_pickle=False\n",
    ")"
   ]
  },
  {
   "cell_type": "code",
   "execution_count": null,
   "metadata": {},
   "outputs": [],
   "source": [
    "#Loading the coorddinates \n",
    "coords = pd.read_excel('/home/krastegar0/SpaCo_py/src/spaco_py/coords_brain.xlsx')"
   ]
  },
  {
   "cell_type": "code",
   "execution_count": null,
   "metadata": {},
   "outputs": [],
   "source": [
    "def plot_spatial_heatmap(coords, values, title=\"Spatial Heatmap\", cmap=\"viridis\", point_size=50):\n",
    "    \"\"\"\n",
    "    Plots a discrete heatmap based on coordinates and corresponding values.\n",
    "    Args:\n",
    "        coords (numpy.ndarray): Array of shape (n_samples, 2) containing x and y coordinates.\n",
    "        values (numpy.ndarray): Array of shape (n_samples,) containing values corresponding to the coordinates.\n",
    "        title (str): Title of the plot.\n",
    "        cmap (str): Colormap to use for the heatmap.\n",
    "        point_size (int): Size of the points in the scatter plot.\n",
    "    \"\"\"\n",
    "    # Ensure inputs are NumPy arrays\n",
    "    coords = np.array(coords)\n",
    "    values = np.array(values)\n",
    "    # Create the scatter plot\n",
    "    plt.figure(figsize=(8, 6))\n",
    "    scatter = plt.scatter(coords[:, 0], coords[:, 1], c=values, cmap=cmap, s=point_size, edgecolor=\"k\")\n",
    "    plt.colorbar(scatter, label=\"Values\")\n",
    "    plt.title(title)\n",
    "    plt.xlabel(\"X Coordinate\")\n",
    "    plt.ylabel(\"Y Coordinate\")\n",
    "    plt.grid(True)\n",
    "    plt.savefig(f'{title}.png', dpi=300, bbox_inches='tight')\n",
    "    plt.show()\n",
    "# Example usage\n",
    "# Coordinates (x, y)\n",
    "# coords = coords\n",
    "# Values corresponding to the coordinates\n",
    "# values = spac_patterns_X[:, 0]  # Use the first SpaCo pattern for demonstration\n",
    "# Plot the heatmap\n",
    "# plot_spatial_heatmap(coords, values, title=\"First SpaC\",point_size=20)"
   ]
  },
  {
   "cell_type": "code",
   "execution_count": null,
   "metadata": {},
   "outputs": [],
   "source": [
    "testObj = SPACO(neighbormatrix=neighbor, sample_features=sf)"
   ]
  },
  {
   "cell_type": "code",
   "execution_count": null,
   "metadata": {},
   "outputs": [],
   "source": [
    "Pspac, Vkt =testObj.spaco_projection()"
   ]
  },
  {
   "cell_type": "code",
   "execution_count": null,
   "metadata": {},
   "outputs": [],
   "source": [
    "non_random_eigvals = testObj._cache[\"non_random_eigvals\"]\n",
    "random_permuted_eigvals = testObj._cache[\"results_all\"]"
   ]
  },
  {
   "cell_type": "markdown",
   "metadata": {},
   "source": [
    "\n",
    "## Remarks on Fig 1\n",
    "The distribution of eigenvalues shows the non-random eigenvalues in blue and the random permuted eigenvalues in orange.\n",
    "The non-random eigenvalues represent the true structure of the data, while the random permuted eigenvalues serve as a null distribution for comparison.\n",
    "We use the upper 95% confidence interval of the random permuted eigenvalues to determine the significance of the non-random eigenvalues.\n",
    "The non-random eigenvalues that exceed this threshold are considered significant and indicate the presence of meaningful patterns in the data.\n",
    "The plot provides a visual representation of the eigenvalue distributions, allowing us to assess the significance of the non-random eigenvalues in relation to the random permuted eigenvalues.\n",
    "      \n",
    "      "
   ]
  },
  {
   "cell_type": "markdown",
   "metadata": {},
   "source": [
    "## Determing a metric to see if this pattern is actually spatially \n",
    "Here we see our first spatial pattern but how can we tell if the patterns that we see are actually spatial or they are just artifacts. We look at the length of the projections as the measure of \"Smoothness\" for a spatial gene "
   ]
  },
  {
   "cell_type": "code",
   "execution_count": null,
   "metadata": {},
   "outputs": [],
   "source": [
    "# need to generate the sigma matrix and sigma eigenvlaues for test statistic using \n",
    "testObj.spaco_test(Pspac[:, 0])"
   ]
  },
  {
   "cell_type": "code",
   "execution_count": null,
   "metadata": {},
   "outputs": [],
   "source": [
    "coeff=testObj._cache[\"sigma_eigh\"] # sum of these should be close to 1\n",
    "coeff"
   ]
  },
  {
   "cell_type": "code",
   "execution_count": null,
   "metadata": {},
   "outputs": [],
   "source": [
    "Q_sig=testObj._cache[\"sigma\"]\n",
    "Q_sig"
   ]
  },
  {
   "cell_type": "markdown",
   "metadata": {},
   "source": [
    "### Going to use python momentchi2 package to run the weighted sum of chi2 distribution \n",
    "Here we attempt to use a weighted sum of chi2 package to determine if the length of the projected spaco pattern relates to a spatially relevant gene "
   ]
  },
  {
   "cell_type": "markdown",
   "metadata": {},
   "source": []
  },
  {
   "cell_type": "code",
   "execution_count": null,
   "metadata": {},
   "outputs": [],
   "source": [
    "graphLaplacian=testObj.graphLaplacian\n",
    "graphLaplacian"
   ]
  },
  {
   "cell_type": "code",
   "execution_count": null,
   "metadata": {},
   "outputs": [],
   "source": [
    "# calculating the sigma matrix and seeing if I made any mistakes there\n",
    "sigma_tilda = graphLaplacian @ Vkt @ Vkt.T @ graphLaplacian\n",
    "sigma=testObj._cache[\"sigma\"]"
   ]
  },
  {
   "cell_type": "code",
   "execution_count": null,
   "metadata": {},
   "outputs": [],
   "source": [
    "# recalculating test statistics and testing against the null distribution. \n",
    "graphLaplacian=testObj.graphLaplacian\n",
    "\n",
    "# calculating the sigma matrix and seeing if I made any mistakes there\n",
    "sigma_tilda = graphLaplacian @ Vkt @ Vkt.T @ graphLaplacian\n",
    "sigma=testObj._cache[\"sigma\"]\n",
    "\n",
    "# Eigenvalues of the sigma matrix\n",
    "sigma_eigenvalues = np.linalg.eigvals(sigma)\n",
    "print(len(sigma_eigenvalues))\n",
    "print(sum(sigma_eigenvalues)) # sum of these should be close to 1."
   ]
  },
  {
   "cell_type": "markdown",
   "metadata": {},
   "source": [
    "#### Achim Testing of SVG theory ####\n",
    "1. Generate the null distribution from random chi-squared distribution variables and sigma eignenvalues from real data \n",
    "2. generate a random vector from a normal distribution and then calculate the test statistic of random vector against null distribution\n",
    "3. compare test statistics and null distribution"
   ]
  },
  {
   "cell_type": "code",
   "execution_count": null,
   "metadata": {},
   "outputs": [],
   "source": [
    "# generating the null statistic\n",
    "\n",
    "chi = np.random.chisquare(df=1, size=len(sigma_eigenvalues))\n"
   ]
  },
  {
   "cell_type": "code",
   "execution_count": null,
   "metadata": {},
   "outputs": [],
   "source": [
    "A_vec_null_distribution_Real = [coeff.T @ np.random.chisquare(df=1, size=len(sigma_eigenvalues)) for _ in range(10000)]\n",
    "A_vec_null_distribution_Real\n",
    "plt.hist(A_vec_null_distribution_Real, bins=30, color='orange', alpha=0.7, edgecolor='black')\n",
    "plt.title(\"Histogram of Random Vector\")\n",
    "plt.xlabel(\"Value\")\n",
    "plt.ylabel(\"Frequency\")\n",
    "plt.show()"
   ]
  },
  {
   "cell_type": "code",
   "execution_count": null,
   "metadata": {},
   "outputs": [],
   "source": [
    "#---Parameters----#\n",
    "size = Vkt.shape[0]  # Length of the vector\n",
    "mean = 0    # Mean of the normal distribution\n",
    "std_dev = 1 # Standard deviation of the normal distribution\n",
    "\n",
    "# Generate random vector\n",
    "random_vector = np.random.normal(mean, std_dev, size) # random vector of normal expression values \n",
    "\n",
    "# Calculate the inner product\n",
    "non_spatial_testStats = [\n",
    "    np.random.normal(mean, std_dev, size).T @ graphLaplacian @ Vkt @ Vkt.T @ graphLaplacian @ np.random.normal(mean, std_dev, size)\n",
    "    for _ in range(10000)\n",
    "]"
   ]
  },
  {
   "cell_type": "code",
   "execution_count": null,
   "metadata": {},
   "outputs": [],
   "source": [
    "# Plot the histogram\n",
    "plt.hist(non_spatial_testStats, bins=30, color='blue', alpha=0.7, edgecolor='black', label=\"Random Vector Test Statistic\")\n",
    "plt.hist(A_vec_null_distribution_Real, bins=30, color='orange', alpha=0.7, edgecolor='black', label=\"Null Distribution from Real Lambdas\")\n",
    "plt.title(\"Histogram of Random Vector\")\n",
    "plt.xlabel(\"Value\")\n",
    "plt.ylabel(\"Frequency\")\n",
    "plt.legend(loc='upper right')\n",
    "plt.show()"
   ]
  },
  {
   "cell_type": "code",
   "execution_count": null,
   "metadata": {},
   "outputs": [],
   "source": [
    "Vkt.sum(axis=0) # Vk is constructed incorrectly (or something happens to it )"
   ]
  },
  {
   "cell_type": "code",
   "execution_count": null,
   "metadata": {},
   "outputs": [],
   "source": [
    "#V_k^T * L *x  --> y  and then y^T * y # the issue was \n",
    "randomTestStats = []\n",
    "for _ in range(10000):\n",
    "    y = Vkt.T @ graphLaplacian @ np.random.normal(mean, std_dev, size)\n",
    "    randomTestStats.append(y.T @ y)"
   ]
  },
  {
   "cell_type": "markdown",
   "metadata": {},
   "source": [
    "#### Note: \n",
    "##### The issue was with generating the random test statistics. For some reason the calculation\n",
    "##### was not correct. The random test statistics were not being generated correctly. Meaning in the code the test statistics were not calculated correctly as well"
   ]
  },
  {
   "cell_type": "code",
   "execution_count": null,
   "metadata": {},
   "outputs": [],
   "source": [
    "plt.hist(randomTestStats, bins=30, color='blue', alpha=0.7, edgecolor='black', label=\"Random Vector Test Statistic\")\n",
    "plt.hist(A_vec_null_distribution_Real, bins=30, color='orange', alpha=0.7, edgecolor='black', label=\"Null Distribution from Real Lambdas\")\n",
    "plt.title(\"Histogram of Random Vector\")\n",
    "plt.xlabel(\"Value\")\n",
    "plt.ylabel(\"Frequency\")\n",
    "plt.legend(loc='upper right')\n",
    "plt.show()"
   ]
  }
 ],
 "metadata": {
  "kernelspec": {
   "display_name": ".venv",
   "language": "python",
   "name": "python3"
  },
  "language_info": {
   "codemirror_mode": {
    "name": "ipython",
    "version": 3
   },
   "file_extension": ".py",
   "mimetype": "text/x-python",
   "name": "python",
   "nbconvert_exporter": "python",
   "pygments_lexer": "ipython3",
   "version": "3.12.0"
  }
 },
 "nbformat": 4,
 "nbformat_minor": 2
}
