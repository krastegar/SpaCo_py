{
 "cells": [
  {
   "cell_type": "code",
   "execution_count": 1,
   "metadata": {},
   "outputs": [],
   "source": [
    "from spaco_py.SpaCoObject import SPACO\n",
    "import pandas as pd \n",
    "import numpy as np\n",
    "import matplotlib.pyplot as plt"
   ]
  },
  {
   "cell_type": "code",
   "execution_count": 2,
   "metadata": {},
   "outputs": [],
   "source": [
    "sf = np.load(\n",
    "    \"/home/krastegar0/SpaCo_py/src/spaco_py/sf_mat.npy\", allow_pickle=False\n",
    ")\n",
    "neighbor = np.load(\n",
    "    \"/home/krastegar0/SpaCo_py/src/spaco_py/A_mat.npy\", allow_pickle=False\n",
    ")"
   ]
  },
  {
   "cell_type": "code",
   "execution_count": 3,
   "metadata": {},
   "outputs": [],
   "source": [
    "#Loading the coorddinates \n",
    "coords = pd.read_excel('/home/krastegar0/SpaCo_py/mouseBrainTestData/coords_brain.xlsx')"
   ]
  },
  {
   "cell_type": "code",
   "execution_count": 4,
   "metadata": {},
   "outputs": [],
   "source": [
    "def plot_spatial_heatmap(coords, values, title=\"Spatial Heatmap\", cmap=\"viridis\", point_size=50):\n",
    "    \"\"\"\n",
    "    Plots a discrete heatmap based on coordinates and corresponding values.\n",
    "    Args:\n",
    "        coords (numpy.ndarray): Array of shape (n_samples, 2) containing x and y coordinates.\n",
    "        values (numpy.ndarray): Array of shape (n_samples,) containing values corresponding to the coordinates.\n",
    "        title (str): Title of the plot.\n",
    "        cmap (str): Colormap to use for the heatmap.\n",
    "        point_size (int): Size of the points in the scatter plot.\n",
    "    \"\"\"\n",
    "    # Ensure inputs are NumPy arrays\n",
    "    coords = np.array(coords)\n",
    "    values = np.array(values)\n",
    "    # Create the scatter plot\n",
    "    plt.figure(figsize=(8, 6))\n",
    "    scatter = plt.scatter(coords[:, 0], coords[:, 1], c=values, cmap=cmap, s=point_size, edgecolor=\"k\")\n",
    "    plt.colorbar(scatter, label=\"Values\")\n",
    "    plt.title(title)\n",
    "    plt.xlabel(\"X Coordinate\")\n",
    "    plt.ylabel(\"Y Coordinate\")\n",
    "    plt.grid(True)\n",
    "    plt.show()\n",
    "# Example usage\n",
    "# Coordinates (x, y)\n",
    "# coords = coords\n",
    "# Values corresponding to the coordinates\n",
    "# values = spac_patterns_X[:, 0]  # Use the first SpaCo pattern for demonstration\n",
    "# Plot the heatmap\n",
    "# plot_spatial_heatmap(coords, values, title=\"First SpaC\",point_size=20)"
   ]
  },
  {
   "cell_type": "code",
   "execution_count": 6,
   "metadata": {},
   "outputs": [],
   "source": [
    "testObj = SPACO(neighbormatrix=neighbor, sample_features=sf)"
   ]
  },
  {
   "cell_type": "code",
   "execution_count": 7,
   "metadata": {},
   "outputs": [
    {
     "name": "stdout",
     "output_type": "stream",
     "text": [
      "INITIAL # of elements in CI: 17\n",
      " size of CI: 0.0015645337028771245\n",
      "number of iterations: 1.\n",
      " # of elements in CI: 17\n",
      "size of CI: 0.0014904126139816398\n",
      "number of iterations: 2.\n",
      " # of elements in CI: 18\n",
      "size of CI: 0.001429576304164737\n",
      "number of iterations: 3.\n",
      " # of elements in CI: 19\n",
      "size of CI: 0.001413923089193414\n",
      "number of iterations: 4.\n",
      " # of elements in CI: 18\n",
      "size of CI: 0.0013310368666896721\n",
      "number of iterations: 5.\n",
      " # of elements in CI: 18\n",
      "size of CI: 0.0012675269502606668\n",
      "number of iterations: 6.\n",
      " # of elements in CI: 20\n",
      "size of CI: 0.0012176417832492348\n",
      "number of iterations: 7.\n",
      " # of elements in CI: 21\n",
      "size of CI: 0.0011849927510279024\n",
      "number of iterations: 8.\n",
      " # of elements in CI: 22\n",
      "size of CI: 0.0011422835688095212\n",
      "number of iterations: 9.\n",
      " # of elements in CI: 22\n",
      "size of CI: 0.0011198872434743379\n",
      "number of iterations: 10.\n",
      " # of elements in CI: 20\n",
      "size of CI: 0.0010850605747307895\n",
      "Reached maximum number of iterations: 10.\n",
      " # of elements in CI: 20\n"
     ]
    }
   ],
   "source": [
    "Pspac, Vkt =testObj.spaco_projection()"
   ]
  },
  {
   "cell_type": "code",
   "execution_count": null,
   "metadata": {},
   "outputs": [],
   "source": [
    "Vkt.shape"
   ]
  },
  {
   "cell_type": "code",
   "execution_count": null,
   "metadata": {},
   "outputs": [],
   "source": [
    "\"\"\"\n",
    "The problem is that as we increase the number of elements in result_all, we are increasing\n",
    "the number of elements in the result_all list, which would normally be fine but it seems that we are \n",
    "increasing the number of eigenvalues that are almost exactly the same. Why do i think this? Thats becase\n",
    "as the number of elements increases due to the batch size argument, its like we are putting the same matrix\n",
    "inside the function multiple times. resulting ridiculously high number of eigenvalues that are almost\n",
    "the same. So in summary we are increasing the number of eigenvalues inside the CI at a faster rate \n",
    "than shrinking the CI. \n",
    "\n",
    "Possible solution:\n",
    "Look at the the values that are being added by the concancatenation of the result_all list.\n",
    "If all of these eigen values are the same, then we know that the issue is with the batch size\n",
    "appending portion of the for loop. Because the CI is decreasing and result_all is increasing\n",
    "as intended. But the eigenvalues are not changing as much as they should be. \n",
    "\n",
    "Another thing is to look at the permutation of the whitened data again. Maybe the permutation\n",
    "is not being done correctly. By this I mean we are getting too similar of matricies. \n",
    "\"\"\""
   ]
  }
 ],
 "metadata": {
  "kernelspec": {
   "display_name": ".venv",
   "language": "python",
   "name": "python3"
  },
  "language_info": {
   "codemirror_mode": {
    "name": "ipython",
    "version": 3
   },
   "file_extension": ".py",
   "mimetype": "text/x-python",
   "name": "python",
   "nbconvert_exporter": "python",
   "pygments_lexer": "ipython3",
   "version": "3.12.0"
  }
 },
 "nbformat": 4,
 "nbformat_minor": 2
}
