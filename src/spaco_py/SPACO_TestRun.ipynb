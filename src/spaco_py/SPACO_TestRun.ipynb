{
 "cells": [
  {
   "cell_type": "code",
   "execution_count": 1,
   "metadata": {},
   "outputs": [],
   "source": [
    "from spaco_py.SpaCoObject import SPACO\n",
    "import pandas as pd \n",
    "import numpy as np\n",
    "import matplotlib.pyplot as plt"
   ]
  },
  {
   "cell_type": "code",
   "execution_count": 2,
   "metadata": {},
   "outputs": [],
   "source": [
    "# Sample x Features matrix + Adjacency matrix\n",
    "# Load the data\n",
    "sf_mat = pd.read_excel('/home/krastegar0/SpaCo_py/mouseBrainTestData/SF_brain.xlsx').to_numpy()\n",
    "A_mat = pd.read_excel('/home/krastegar0/SpaCo_py/mouseBrainTestData/A_brain.xlsx').to_numpy()"
   ]
  },
  {
   "cell_type": "code",
   "execution_count": 3,
   "metadata": {},
   "outputs": [],
   "source": [
    "#Loading the coorddinates \n",
    "coords = pd.read_excel('/home/krastegar0/SpaCo_py/mouseBrainTestData/coords_brain.xlsx')"
   ]
  },
  {
   "cell_type": "code",
   "execution_count": 4,
   "metadata": {},
   "outputs": [],
   "source": [
    "def plot_spatial_heatmap(coords, values, title=\"Spatial Heatmap\", cmap=\"viridis\", point_size=50):\n",
    "    \"\"\"\n",
    "    Plots a discrete heatmap based on coordinates and corresponding values.\n",
    "    Args:\n",
    "        coords (numpy.ndarray): Array of shape (n_samples, 2) containing x and y coordinates.\n",
    "        values (numpy.ndarray): Array of shape (n_samples,) containing values corresponding to the coordinates.\n",
    "        title (str): Title of the plot.\n",
    "        cmap (str): Colormap to use for the heatmap.\n",
    "        point_size (int): Size of the points in the scatter plot.\n",
    "    \"\"\"\n",
    "    # Ensure inputs are NumPy arrays\n",
    "    coords = np.array(coords)\n",
    "    values = np.array(values)\n",
    "    # Create the scatter plot\n",
    "    plt.figure(figsize=(8, 6))\n",
    "    scatter = plt.scatter(coords[:, 0], coords[:, 1], c=values, cmap=cmap, s=point_size, edgecolor=\"k\")\n",
    "    plt.colorbar(scatter, label=\"Values\")\n",
    "    plt.title(title)\n",
    "    plt.xlabel(\"X Coordinate\")\n",
    "    plt.ylabel(\"Y Coordinate\")\n",
    "    plt.grid(True)\n",
    "    plt.show()\n",
    "# Example usage\n",
    "# Coordinates (x, y)\n",
    "# coords = coords\n",
    "# Values corresponding to the coordinates\n",
    "# values = spac_patterns_X[:, 0]  # Use the first SpaCo pattern for demonstration\n",
    "# Plot the heatmap\n",
    "# plot_spatial_heatmap(coords, values, title=\"First SpaC\",point_size=20)"
   ]
  },
  {
   "cell_type": "code",
   "execution_count": 5,
   "metadata": {},
   "outputs": [],
   "source": [
    "testObj = SPACO(neighbormatrix=A_mat, sample_features=sf_mat)"
   ]
  },
  {
   "cell_type": "code",
   "execution_count": 6,
   "metadata": {},
   "outputs": [],
   "source": [
    "Pspac, Vkt =testObj.spaco_projection()"
   ]
  },
  {
   "cell_type": "code",
   "execution_count": 7,
   "metadata": {},
   "outputs": [
    {
     "data": {
      "text/plain": [
       "(2696, 281)"
      ]
     },
     "execution_count": 7,
     "metadata": {},
     "output_type": "execute_result"
    }
   ],
   "source": [
    "Vkt.shape"
   ]
  },
  {
   "cell_type": "code",
   "execution_count": 8,
   "metadata": {},
   "outputs": [
    {
     "data": {
      "text/plain": [
       "(2696, 3000)"
      ]
     },
     "execution_count": 8,
     "metadata": {},
     "output_type": "execute_result"
    }
   ],
   "source": [
    "sf_mat.shape"
   ]
  },
  {
   "cell_type": "code",
   "execution_count": 9,
   "metadata": {},
   "outputs": [
    {
     "data": {
      "text/plain": [
       "'The dimension of the spatial features is off.....we were predicting 40 columns for Vk but instead we got 282 this means, something is off in the lambda cut function and it might be due to cache results? maybe not updating the values correctly? but it seems to be returning the cache results'"
      ]
     },
     "execution_count": 9,
     "metadata": {},
     "output_type": "execute_result"
    }
   ],
   "source": [
    "\"The dimension of the spatial features is off.....we were predicting 40 columns for Vk but instead we got 282 this means, something is off in the lambda cut function and it might be due to cache results? maybe not updating the values correctly? but it seems to be returning the cache results\""
   ]
  },
  {
   "cell_type": "code",
   "execution_count": 10,
   "metadata": {},
   "outputs": [
    {
     "data": {
      "text/plain": [
       "np.float64(1.2772469899203738)"
      ]
     },
     "execution_count": 10,
     "metadata": {},
     "output_type": "execute_result"
    }
   ],
   "source": [
    "testObj.lambda_cut"
   ]
  },
  {
   "cell_type": "code",
   "execution_count": 11,
   "metadata": {},
   "outputs": [
    {
     "data": {
      "text/plain": [
       "281"
      ]
     },
     "execution_count": 11,
     "metadata": {},
     "output_type": "execute_result"
    }
   ],
   "source": [
    "testObj.nSpacs"
   ]
  }
 ],
 "metadata": {
  "kernelspec": {
   "display_name": ".venv",
   "language": "python",
   "name": "python3"
  },
  "language_info": {
   "codemirror_mode": {
    "name": "ipython",
    "version": 3
   },
   "file_extension": ".py",
   "mimetype": "text/x-python",
   "name": "python",
   "nbconvert_exporter": "python",
   "pygments_lexer": "ipython3",
   "version": "3.12.0"
  }
 },
 "nbformat": 4,
 "nbformat_minor": 2
}
