{
 "cells": [
  {
   "cell_type": "code",
   "execution_count": null,
   "metadata": {},
   "outputs": [],
   "source": [
    "from spaco_py.SpaCoObject import SPACO\n",
    "import pandas as pd \n",
    "import numpy as np\n",
    "import matplotlib.pyplot as plt\n",
    "import seaborn as sns\n",
    "from momentchi2 import wf, hbe"
   ]
  },
  {
   "cell_type": "code",
<<<<<<< HEAD
   "execution_count": 2,
=======
   "execution_count": null,
>>>>>>> 9b4a9ae69ef61fdf76a8f5e967d5e8c7f35d7530
   "metadata": {},
   "outputs": [],
   "source": [
    "sf = np.load(\n",
    "    \"/home/krastegar0/SpaCo_py/src/spaco_py/sf_mat.npy\", allow_pickle=False\n",
    ")\n",
    "neighbor = np.load(\n",
    "    \"/home/krastegar0/SpaCo_py/src/spaco_py/A_mat.npy\", allow_pickle=False\n",
    ")"
   ]
  },
  {
   "cell_type": "code",
<<<<<<< HEAD
   "execution_count": 3,
=======
   "execution_count": null,
>>>>>>> 9b4a9ae69ef61fdf76a8f5e967d5e8c7f35d7530
   "metadata": {},
   "outputs": [],
   "source": [
    "#Loading the coorddinates \n",
    "coords = pd.read_excel('/home/krastegar0/SpaCo_py/src/spaco_py/coords_brain.xlsx')"
   ]
  },
  {
   "cell_type": "code",
<<<<<<< HEAD
   "execution_count": 4,
=======
   "execution_count": null,
>>>>>>> 9b4a9ae69ef61fdf76a8f5e967d5e8c7f35d7530
   "metadata": {},
   "outputs": [],
   "source": [
    "def plot_spatial_heatmap(coords, values, title=\"Spatial Heatmap\", cmap=\"viridis\", point_size=50):\n",
    "    \"\"\"\n",
    "    Plots a discrete heatmap based on coordinates and corresponding values.\n",
    "    Args:\n",
    "        coords (numpy.ndarray): Array of shape (n_samples, 2) containing x and y coordinates.\n",
    "        values (numpy.ndarray): Array of shape (n_samples,) containing values corresponding to the coordinates.\n",
    "        title (str): Title of the plot.\n",
    "        cmap (str): Colormap to use for the heatmap.\n",
    "        point_size (int): Size of the points in the scatter plot.\n",
    "    \"\"\"\n",
    "    # Ensure inputs are NumPy arrays\n",
    "    coords = np.array(coords)\n",
    "    values = np.array(values)\n",
    "    # Create the scatter plot\n",
    "    plt.figure(figsize=(8, 6))\n",
    "    scatter = plt.scatter(coords[:, 0], coords[:, 1], c=values, cmap=cmap, s=point_size, edgecolor=\"k\")\n",
    "    plt.colorbar(scatter, label=\"Values\")\n",
    "    plt.title(title)\n",
    "    plt.xlabel(\"X Coordinate\")\n",
    "    plt.ylabel(\"Y Coordinate\")\n",
    "    plt.grid(True)\n",
    "    plt.savefig(f'{title}.png', dpi=300, bbox_inches='tight')\n",
    "    plt.show()\n",
    "# Example usage\n",
    "# Coordinates (x, y)\n",
    "# coords = coords\n",
    "# Values corresponding to the coordinates\n",
    "# values = spac_patterns_X[:, 0]  # Use the first SpaCo pattern for demonstration\n",
    "# Plot the heatmap\n",
    "# plot_spatial_heatmap(coords, values, title=\"First SpaC\",point_size=20)"
   ]
  },
  {
   "cell_type": "code",
<<<<<<< HEAD
   "execution_count": 5,
=======
   "execution_count": null,
>>>>>>> 9b4a9ae69ef61fdf76a8f5e967d5e8c7f35d7530
   "metadata": {},
   "outputs": [],
   "source": [
    "testObj = SPACO(neighbormatrix=neighbor, sample_features=sf)"
   ]
  },
  {
   "cell_type": "code",
<<<<<<< HEAD
   "execution_count": 6,
   "metadata": {},
   "outputs": [
    {
     "name": "stdout",
     "output_type": "stream",
     "text": [
      "Inital CI: 1.765 - 1.767\n",
      "\n",
      "INITIAL # of elements in CI: 0\n",
      " size of CI: 0.00153\n"
     ]
    }
   ],
=======
   "execution_count": null,
   "metadata": {},
   "outputs": [],
>>>>>>> 9b4a9ae69ef61fdf76a8f5e967d5e8c7f35d7530
   "source": [
    "Pspac, Vkt =testObj.spaco_projection()"
   ]
  },
  {
<<<<<<< HEAD
=======
   "cell_type": "code",
   "execution_count": null,
   "metadata": {},
   "outputs": [],
   "source": [
    "non_random_eigvals = testObj._cache[\"non_random_eigvals\"]\n",
    "random_permuted_eigvals = testObj._cache[\"results_all\"]"
   ]
  },
  {
>>>>>>> 9b4a9ae69ef61fdf76a8f5e967d5e8c7f35d7530
   "cell_type": "markdown",
   "metadata": {},
   "source": [
    "\n",
    "## Remarks on Fig 1\n",
    "The distribution of eigenvalues shows the non-random eigenvalues in blue and the random permuted eigenvalues in orange.\n",
    "The non-random eigenvalues represent the true structure of the data, while the random permuted eigenvalues serve as a null distribution for comparison.\n",
    "We use the upper 95% confidence interval of the random permuted eigenvalues to determine the significance of the non-random eigenvalues.\n",
    "The non-random eigenvalues that exceed this threshold are considered significant and indicate the presence of meaningful patterns in the data.\n",
    "The plot provides a visual representation of the eigenvalue distributions, allowing us to assess the significance of the non-random eigenvalues in relation to the random permuted eigenvalues.\n",
    "      \n",
    "      "
   ]
  },
  {
   "cell_type": "markdown",
   "metadata": {},
   "source": [
    "## Determing a metric to see if this pattern is actually spatially \n",
    "Here we see our first spatial pattern but how can we tell if the patterns that we see are actually spatial or they are just artifacts. We look at the length of the projections as the measure of \"Smoothness\" for a spatial gene "
   ]
  },
  {
   "cell_type": "code",
<<<<<<< HEAD
   "execution_count": 7,
   "metadata": {},
   "outputs": [
    {
     "data": {
      "text/plain": [
       "array([[0.00037092, 0.        , 0.        , ..., 0.        , 0.        ,\n",
       "        0.        ],\n",
       "       [0.        , 0.00037092, 0.        , ..., 0.        , 0.        ,\n",
       "        0.        ],\n",
       "       [0.        , 0.        , 0.00037092, ..., 0.        , 0.        ,\n",
       "        0.        ],\n",
       "       ...,\n",
       "       [0.        , 0.        , 0.        , ..., 0.00037092, 0.        ,\n",
       "        0.        ],\n",
       "       [0.        , 0.        , 0.        , ..., 0.        , 0.00037092,\n",
       "        0.        ],\n",
       "       [0.        , 0.        , 0.        , ..., 0.        , 0.        ,\n",
       "        0.00037092]], shape=(2696, 2696))"
      ]
     },
     "execution_count": 7,
     "metadata": {},
     "output_type": "execute_result"
    }
   ],
   "source": [
    "graphLaplacian=testObj._cache[\"spectral_results\"][2]\n",
    "graphLaplacian"
   ]
  },
  {
   "cell_type": "code",
   "execution_count": 8,
   "metadata": {},
   "outputs": [
    {
     "name": "stdout",
     "output_type": "stream",
     "text": [
      "pval: 0.3696040977826377\n",
      "test statistic: 1.9464415030551285\n",
      "lambda cut: 1.766962798370117\n"
     ]
    }
   ],
   "source": [
    "_, test_statistic = testObj.spaco_test(Pspac[:, 34])"
   ]
  },
  {
   "cell_type": "code",
   "execution_count": 9,
   "metadata": {},
   "outputs": [
    {
     "data": {
      "text/plain": [
       "array([0.00067831, 0.00068012, 0.00068166, 0.00068281, 0.00068566,\n",
       "       0.00068679, 0.0006884 , 0.00069066, 0.00069113, 0.00069169,\n",
       "       0.0006938 , 0.00069586, 0.00069644, 0.00070009, 0.00070053,\n",
       "       0.00070276, 0.00070583, 0.00070833, 0.00071319, 0.00071373,\n",
       "       0.00071412, 0.00071635, 0.00071874, 0.00072091, 0.00072325,\n",
       "       0.000726  , 0.00073074, 0.00073162, 0.00073326, 0.00073476,\n",
       "       0.00073712, 0.0007402 , 0.00074363, 0.00074548, 0.00074723])"
      ]
     },
     "execution_count": 9,
     "metadata": {},
     "output_type": "execute_result"
    }
   ],
   "source": [
    "coeefficients = testObj._cache[\"sigma_eigh\"]\n",
    "coeefficients"
   ]
  },
  {
   "cell_type": "code",
   "execution_count": 10,
=======
   "execution_count": null,
>>>>>>> 9b4a9ae69ef61fdf76a8f5e967d5e8c7f35d7530
   "metadata": {},
   "outputs": [
    {
     "data": {
      "text/plain": [
       "np.float64(1.1102230246251565e-16)"
      ]
     },
     "execution_count": 10,
     "metadata": {},
     "output_type": "execute_result"
    }
   ],
   "source": [
<<<<<<< HEAD
    "pVal = 1-wf(coeefficients, x=test_statistic)\n",
    "pVal            "
   ]
  },
  {
   "cell_type": "code",
   "execution_count": 11,
   "metadata": {},
   "outputs": [
    {
     "data": {
      "text/plain": [
       "array([[-0.71401505, -0.34808321, -0.09112729, ...,  1.39672746,\n",
       "        -0.95587448, -1.44889637],\n",
       "       [-0.40716637, -0.55698328, -0.14597331, ..., -1.55168394,\n",
       "        -3.03006255, -0.5522431 ],\n",
       "       [-1.02430067, -0.49451424, -0.12965826, ..., -0.81094428,\n",
       "         0.91945116, -0.27637594],\n",
       "       ...,\n",
       "       [ 0.12632418, -0.44350285, -0.1163142 , ...,  0.05668829,\n",
       "        -0.1778188 , -0.56935161],\n",
       "       [-0.8020468 , -0.38957994, -0.10213217, ...,  2.72528016,\n",
       "         1.16362951, -1.61993973],\n",
       "       [-0.78569242, -0.38187694, -0.10009644, ...,  1.87983883,\n",
       "         1.17203493, -1.58871577]], shape=(2696, 3000))"
      ]
     },
     "execution_count": 11,
     "metadata": {},
     "output_type": "execute_result"
    }
   ],
   "source": [
    "sf"
=======
    "# need to generate the sigma matrix and sigma eigenvlaues for test statistic using \n",
    "testObj.spaco_test(Pspac[:, 0])"
>>>>>>> 9b4a9ae69ef61fdf76a8f5e967d5e8c7f35d7530
   ]
  },
  {
   "cell_type": "code",
<<<<<<< HEAD
   "execution_count": null,
   "metadata": {},
   "outputs": [],
   "source": []
=======
   "execution_count": null,
   "metadata": {},
   "outputs": [],
   "source": [
    "coeff=testObj._cache[\"sigma_eigh\"] # sum of these should be close to 1\n",
    "coeff"
   ]
  },
  {
   "cell_type": "code",
   "execution_count": null,
   "metadata": {},
   "outputs": [],
   "source": [
    "Q_sig=testObj._cache[\"sigma\"]\n",
    "Q_sig"
   ]
  },
  {
   "cell_type": "markdown",
   "metadata": {},
   "source": [
    "### Going to use python momentchi2 package to run the weighted sum of chi2 distribution \n",
    "Here we attempt to use a weighted sum of chi2 package to determine if the length of the projected spaco pattern relates to a spatially relevant gene "
   ]
  },
  {
   "cell_type": "markdown",
   "metadata": {},
   "source": []
  },
  {
   "cell_type": "code",
   "execution_count": null,
   "metadata": {},
   "outputs": [],
   "source": [
    "graphLaplacian=testObj.graphLaplacian\n",
    "graphLaplacian"
   ]
  },
  {
   "cell_type": "code",
   "execution_count": null,
   "metadata": {},
   "outputs": [],
   "source": [
    "# calculating the sigma matrix and seeing if I made any mistakes there\n",
    "sigma_tilda = graphLaplacian @ Vkt @ Vkt.T @ graphLaplacian\n",
    "sigma=testObj._cache[\"sigma\"]"
   ]
  },
  {
   "cell_type": "code",
   "execution_count": null,
   "metadata": {},
   "outputs": [],
   "source": [
    "# recalculating test statistics and testing against the null distribution. \n",
    "graphLaplacian=testObj.graphLaplacian\n",
    "\n",
    "# calculating the sigma matrix and seeing if I made any mistakes there\n",
    "sigma_tilda = graphLaplacian @ Vkt @ Vkt.T @ graphLaplacian\n",
    "sigma=testObj._cache[\"sigma\"]\n",
    "\n",
    "# Eigenvalues of the sigma matrix\n",
    "sigma_eigenvalues = np.linalg.eigvals(sigma)\n",
    "print(len(sigma_eigenvalues))\n",
    "print(sum(sigma_eigenvalues)) # sum of these should be close to 1."
   ]
  },
  {
   "cell_type": "markdown",
   "metadata": {},
   "source": [
    "#### Achim Testing of SVG theory ####\n",
    "1. Generate the null distribution from random chi-squared distribution variables and sigma eignenvalues from real data \n",
    "2. generate a random vector from a normal distribution and then calculate the test statistic of random vector against null distribution\n",
    "3. compare test statistics and null distribution"
   ]
  },
  {
   "cell_type": "code",
   "execution_count": null,
   "metadata": {},
   "outputs": [],
   "source": [
    "# generating the null statistic\n",
    "\n",
    "chi = np.random.chisquare(df=1, size=len(sigma_eigenvalues))\n"
   ]
  },
  {
   "cell_type": "code",
   "execution_count": null,
   "metadata": {},
   "outputs": [],
   "source": [
    "A_vec_null_distribution_Real = [coeff.T @ np.random.chisquare(df=1, size=len(sigma_eigenvalues)) for _ in range(10000)]\n",
    "A_vec_null_distribution_Real\n",
    "plt.hist(A_vec_null_distribution_Real, bins=30, color='orange', alpha=0.7, edgecolor='black')\n",
    "plt.title(\"Histogram of Random Vector\")\n",
    "plt.xlabel(\"Value\")\n",
    "plt.ylabel(\"Frequency\")\n",
    "plt.show()"
   ]
  },
  {
   "cell_type": "code",
   "execution_count": null,
   "metadata": {},
   "outputs": [],
   "source": [
    "#---Parameters----#\n",
    "size = Vkt.shape[0]  # Length of the vector\n",
    "mean = 0    # Mean of the normal distribution\n",
    "std_dev = 1 # Standard deviation of the normal distribution\n",
    "\n",
    "# Generate random vector\n",
    "random_vector = np.random.normal(mean, std_dev, size) # random vector of normal expression values \n",
    "\n",
    "# Calculate the inner product\n",
    "non_spatial_testStats = [\n",
    "    np.random.normal(mean, std_dev, size).T @ graphLaplacian @ Vkt @ Vkt.T @ graphLaplacian @ np.random.normal(mean, std_dev, size)\n",
    "    for _ in range(10000)\n",
    "]"
   ]
  },
  {
   "cell_type": "code",
   "execution_count": null,
   "metadata": {},
   "outputs": [],
   "source": [
    "# Plot the histogram\n",
    "plt.hist(non_spatial_testStats, bins=30, color='blue', alpha=0.7, edgecolor='black', label=\"Random Vector Test Statistic\")\n",
    "plt.hist(A_vec_null_distribution_Real, bins=30, color='orange', alpha=0.7, edgecolor='black', label=\"Null Distribution from Real Lambdas\")\n",
    "plt.title(\"Histogram of Random Vector\")\n",
    "plt.xlabel(\"Value\")\n",
    "plt.ylabel(\"Frequency\")\n",
    "plt.legend(loc='upper right')\n",
    "plt.show()"
   ]
  },
  {
   "cell_type": "code",
   "execution_count": null,
   "metadata": {},
   "outputs": [],
   "source": [
    "Vkt.sum(axis=0) # Vk is constructed incorrectly (or something happens to it )"
   ]
  },
  {
   "cell_type": "code",
   "execution_count": null,
   "metadata": {},
   "outputs": [],
   "source": [
    "#V_k^T * L *x  --> y  and then y^T * y # the issue was \n",
    "randomTestStats = []\n",
    "for _ in range(10000):\n",
    "    y = Vkt.T @ graphLaplacian @ np.random.normal(mean, std_dev, size)\n",
    "    randomTestStats.append(y.T @ y)"
   ]
  },
  {
   "cell_type": "markdown",
   "metadata": {},
   "source": [
    "#### Note: \n",
    "##### The issue was with generating the random test statistics. For some reason the calculation\n",
    "##### was not correct. The random test statistics were not being generated correctly. Meaning in the code the test statistics were not calculated correctly as well"
   ]
  },
  {
   "cell_type": "code",
   "execution_count": null,
   "metadata": {},
   "outputs": [],
   "source": [
    "plt.hist(randomTestStats, bins=30, color='blue', alpha=0.7, edgecolor='black', label=\"Random Vector Test Statistic\")\n",
    "plt.hist(A_vec_null_distribution_Real, bins=30, color='orange', alpha=0.7, edgecolor='black', label=\"Null Distribution from Real Lambdas\")\n",
    "plt.title(\"Histogram of Random Vector\")\n",
    "plt.xlabel(\"Value\")\n",
    "plt.ylabel(\"Frequency\")\n",
    "plt.legend(loc='upper right')\n",
    "plt.show()"
   ]
>>>>>>> 9b4a9ae69ef61fdf76a8f5e967d5e8c7f35d7530
  }
 ],
 "metadata": {
  "kernelspec": {
   "display_name": ".venv",
   "language": "python",
   "name": "python3"
  },
  "language_info": {
   "codemirror_mode": {
    "name": "ipython",
    "version": 3
   },
   "file_extension": ".py",
   "mimetype": "text/x-python",
   "name": "python",
   "nbconvert_exporter": "python",
   "pygments_lexer": "ipython3",
   "version": "3.12.0"
  }
 },
 "nbformat": 4,
 "nbformat_minor": 2
}
